{
 "cells": [
  {
   "cell_type": "markdown",
   "metadata": {},
   "source": [
    "# Creating a property prediction App\n",
    "> Using Python and Streamlit to create a property price app using machine learning\n",
    "\n",
    "- toc: true \n",
    "- badges: true\n",
    "- comments: true\n",
    "- categories: [Streamlit, RandomForrests, HousePrices, Python]"
   ]
  },
  {
   "cell_type": "markdown",
   "metadata": {},
   "source": [
    "![](ghtop_images/header2.png)"
   ]
  },
  {
   "cell_type": "markdown",
   "metadata": {},
   "source": [
    "## Overview\n",
    "\n",
    "This is an app for predicting house prices in Swansea using Streamlit https://streamlit.io/  \n",
    "\n",
    "The app uses the following for predictions:\n",
    "\n",
    "1. House price sales (price and date)\n",
    "1. Name of street and number\n",
    "1. Location of property (Lattitude and Longitude)\n",
    "1. Data on Census regions\n",
    "\n",
    "\n",
    "    More details of the prediction side of the app, using Random Forrests and neural networks, is dealt with elsewhere.\n",
    "\n",
    "\n",
    "A video of the app is shown below or can be accessed via https://share.streamlit.io/dmaterialia/propertystreamlit/main/PropertyApp.py\n",
    "\n",
    "The intention of the app is to provide a simple user interface to allow price predictions"
   ]
  },
  {
   "cell_type": "markdown",
   "metadata": {},
   "source": [
    "> youtube: https://www.youtube.com/watch?v=IGykZUeZqRA\n",
    "> youtube: https://www.youtu.be/IGykZUeZqRA"
   ]
  },
  {
   "cell_type": "markdown",
   "metadata": {},
   "source": [
    "## The Python Script for the App"
   ]
  },
  {
   "cell_type": "markdown",
   "metadata": {},
   "source": [
    "### Loading the data\n",
    "\n",
    "The following function is used to load the data. \n",
    "\n",
    "The data consists of 4 parts:\n",
    "1. m = the model (this is by far the biggest part in terms of data size)\n",
    "1. to = a data frame object of the house data\n",
    "1. xsAll = this is a form of 'to' used by the model (the input values of the model)\n",
    "1. yAll = a form of 'to' the values the model is trying to predict (house price values)\n",
    "\n",
    "The data is saved as a pickle file in a Jupyter Notebook, then uploaded to googledrive as filesize has to be less than 100 Mb on GitHub.\n",
    "\n",
    "`gdown.download(url, output)` downloads the data from GoogleDrive\n",
    "\n",
    "`@st.cache(allow_output_mutation=True)`\n",
    "This line at the top of the python file means the data is cached and don't need to keep loading it"
   ]
  },
  {
   "cell_type": "code",
   "execution_count": null,
   "metadata": {
    "deletable": false,
    "editable": false,
    "run_control": {
     "frozen": true
    }
   },
   "outputs": [],
   "source": [
    "@st.cache(allow_output_mutation=True)\n",
    "def load_data():\n",
    "    \"\"\"\n",
    "    Loads the data\n",
    "    \"\"\"\n",
    "    import gdown\n",
    "    url = 'https://drive.google.com/uc?id=1OD2l7ynVzLlqY92gYiCx5xq32-D1wJMe'\n",
    "    output = 'one1.pkl'\n",
    "    gdown.download(url, output)\n",
    "\n",
    "    cda = os.getcwd()\n",
    "    with open('one1.pkl', 'rb')as f: \n",
    "        m2, to2, xsAll2, yAll2 = pickle.load(f)\n",
    "    return m2, to2, xsAll2, yAll2\n",
    "data_load_state = st.text('Loading data...')\n",
    "m1, to1, xsAll1, yAll1=load_data()\n",
    "data_load_state.text(\"Loaded data (using st.cache)\")"
   ]
  },
  {
   "cell_type": "code",
   "execution_count": null,
   "metadata": {},
   "outputs": [],
   "source": []
  }
 ],
 "metadata": {
  "hide_input": false,
  "kernelspec": {
   "display_name": "Python 3 (ipykernel)",
   "language": "python",
   "name": "python3"
  },
  "language_info": {
   "codemirror_mode": {
    "name": "ipython",
    "version": 3
   },
   "file_extension": ".py",
   "mimetype": "text/x-python",
   "name": "python",
   "nbconvert_exporter": "python",
   "pygments_lexer": "ipython3",
   "version": "3.8.8"
  },
  "varInspector": {
   "cols": {
    "lenName": 16,
    "lenType": 16,
    "lenVar": 40
   },
   "kernels_config": {
    "python": {
     "delete_cmd_postfix": "",
     "delete_cmd_prefix": "del ",
     "library": "var_list.py",
     "varRefreshCmd": "print(var_dic_list())"
    },
    "r": {
     "delete_cmd_postfix": ") ",
     "delete_cmd_prefix": "rm(",
     "library": "var_list.r",
     "varRefreshCmd": "cat(var_dic_list()) "
    }
   },
   "types_to_exclude": [
    "module",
    "function",
    "builtin_function_or_method",
    "instance",
    "_Feature"
   ],
   "window_display": false
  }
 },
 "nbformat": 4,
 "nbformat_minor": 2
}
