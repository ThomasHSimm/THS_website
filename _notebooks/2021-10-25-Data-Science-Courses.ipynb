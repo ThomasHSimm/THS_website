{
 "cells": [
  {
   "cell_type": "markdown",
   "metadata": {},
   "source": [
    "# Data Science Courses\n",
    "> Online courses I've either completed or done a part of\n",
    "\n",
    "- toc:true\n",
    "- branch: master\n",
    "- badges: true\n",
    "- comments: true\n",
    "- author: Thomas H. Simm\n",
    "- categories: [coursera, mooc, data science, AI, Thomas Simm]"
   ]
  },
  {
   "cell_type": "markdown",
   "metadata": {},
   "source": [
    "![](ghtop_images/header2.png)"
   ]
  },
  {
   "cell_type": "markdown",
   "metadata": {},
   "source": [
    "## Contents\n",
    "\n",
    "1) Data Science Courses\n",
    "\n",
    "- <a href='#IBM_Data'> IBM Data Science Professional Certificate</a>\n",
    "\n",
    "- <a href='#Google_Data'> Google Data Analytics Professional Certificate</a>\n",
    "\n",
    "- <a href='#Google_Python'> Google IT Automation with Python Professional Certificate</a>\n",
    "\n",
    "- <a href='#Google_IT'> Google IT Support Professional Certificate</a>\n",
    "\n",
    "2) Machine Learning Courses\n",
    "\n",
    "- <a href='#IBM_AI'> IBM AI Engineering Professional Certificate</a>\n",
    "\n",
    "- <a href='#ML_Stan'> Machine Learning Stanford</a>\n",
    "\n",
    "- <a href='#DeepLearn'> Deep Learning Specialization</a>\n",
    "\n",
    "- <a href='#fastAI'> Fast AI</a>\n"
   ]
  },
  {
   "cell_type": "code",
   "execution_count": null,
   "metadata": {},
   "outputs": [],
   "source": []
  },
  {
   "cell_type": "code",
   "execution_count": null,
   "metadata": {},
   "outputs": [],
   "source": []
  },
  {
   "cell_type": "markdown",
   "metadata": {},
   "source": [
    "<h2 id='IBM_Data'> IBM Data Science Professional Certificate</h2>"
   ]
  },
  {
   "cell_type": "code",
   "execution_count": 1,
   "metadata": {},
   "outputs": [
    {
     "data": {
      "text/html": [
       "<div>\n",
       "<style scoped>\n",
       "    .dataframe tbody tr th:only-of-type {\n",
       "        vertical-align: middle;\n",
       "    }\n",
       "\n",
       "    .dataframe tbody tr th {\n",
       "        vertical-align: top;\n",
       "    }\n",
       "\n",
       "    .dataframe thead th {\n",
       "        text-align: right;\n",
       "    }\n",
       "</style>\n",
       "<table border=\"1\" class=\"dataframe\">\n",
       "  <thead>\n",
       "    <tr style=\"text-align: right;\">\n",
       "      <th></th>\n",
       "      <th>Course Title</th>\n",
       "      <th>Expected Time (h)</th>\n",
       "      <th>Rating (0-10)</th>\n",
       "    </tr>\n",
       "  </thead>\n",
       "  <tbody>\n",
       "    <tr>\n",
       "      <th>0</th>\n",
       "      <td>Machine Learning with Python</td>\n",
       "      <td>21</td>\n",
       "      <td>5</td>\n",
       "    </tr>\n",
       "    <tr>\n",
       "      <th>1</th>\n",
       "      <td>Introduction to Deep Learning &amp; Neural Network...</td>\n",
       "      <td>8</td>\n",
       "      <td>5</td>\n",
       "    </tr>\n",
       "    <tr>\n",
       "      <th>2</th>\n",
       "      <td>Introduction to Computer Vision and Image Proc...</td>\n",
       "      <td>21</td>\n",
       "      <td>5</td>\n",
       "    </tr>\n",
       "    <tr>\n",
       "      <th>3</th>\n",
       "      <td>Deep Neural Networks with PyTorch</td>\n",
       "      <td>31</td>\n",
       "      <td>5</td>\n",
       "    </tr>\n",
       "    <tr>\n",
       "      <th>4</th>\n",
       "      <td>Building Deep Learning Models with TensorFlow</td>\n",
       "      <td>13</td>\n",
       "      <td>5</td>\n",
       "    </tr>\n",
       "  </tbody>\n",
       "</table>\n",
       "</div>"
      ],
      "text/plain": [
       "                                        Course Title  Expected Time (h)  \\\n",
       "0                       Machine Learning with Python                 21   \n",
       "1  Introduction to Deep Learning & Neural Network...                  8   \n",
       "2  Introduction to Computer Vision and Image Proc...                 21   \n",
       "3                  Deep Neural Networks with PyTorch                 31   \n",
       "4      Building Deep Learning Models with TensorFlow                 13   \n",
       "\n",
       "   Rating (0-10)  \n",
       "0              5  \n",
       "1              5  \n",
       "2              5  \n",
       "3              5  \n",
       "4              5  "
      ]
     },
     "execution_count": 1,
     "metadata": {},
     "output_type": "execute_result"
    }
   ],
   "source": [
    "import pandas as pd\n",
    "columns=['Course Title','Expected Time (h)','Rating (0-10)']\n",
    "IBMds = pd.DataFrame(columns=columns)\n",
    "\n",
    "dat = [['Machine Learning with Python',21,5],\n",
    "    ['Introduction to Deep Learning & Neural Networks with Keras',8,5],\n",
    "    ['Introduction to Computer Vision and Image Processing',21,5],\n",
    "    ['Deep Neural Networks with PyTorch',31,5],\n",
    "    ['Building Deep Learning Models with TensorFlow',13,5],\n",
    "    ['AI Capstone Project with Deep Learning', 16,5]]\n",
    "ss = pd.DataFrame(data = dat,columns=columns)\n",
    "ss.head()"
   ]
  },
  {
   "cell_type": "code",
   "execution_count": null,
   "metadata": {},
   "outputs": [],
   "source": []
  },
  {
   "cell_type": "markdown",
   "metadata": {},
   "source": [
    "![](ghtop_images/IBM_Data.png)\n"
   ]
  }
 ],
 "metadata": {
  "hide_input": true,
  "kernelspec": {
   "display_name": "Python 3",
   "language": "python",
   "name": "python3"
  },
  "language_info": {
   "codemirror_mode": {
    "name": "ipython",
    "version": 3
   },
   "file_extension": ".py",
   "mimetype": "text/x-python",
   "name": "python",
   "nbconvert_exporter": "python",
   "pygments_lexer": "ipython3",
   "version": "3.8.8"
  },
  "varInspector": {
   "cols": {
    "lenName": 16,
    "lenType": 16,
    "lenVar": 40
   },
   "kernels_config": {
    "python": {
     "delete_cmd_postfix": "",
     "delete_cmd_prefix": "del ",
     "library": "var_list.py",
     "varRefreshCmd": "print(var_dic_list())"
    },
    "r": {
     "delete_cmd_postfix": ") ",
     "delete_cmd_prefix": "rm(",
     "library": "var_list.r",
     "varRefreshCmd": "cat(var_dic_list()) "
    }
   },
   "types_to_exclude": [
    "module",
    "function",
    "builtin_function_or_method",
    "instance",
    "_Feature"
   ],
   "window_display": false
  }
 },
 "nbformat": 4,
 "nbformat_minor": 2
}
