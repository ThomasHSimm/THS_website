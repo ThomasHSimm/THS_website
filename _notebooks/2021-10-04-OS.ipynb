{
 "cells": [
  {
   "cell_type": "markdown",
   "metadata": {},
   "source": [
    "# The operating system\n",
    "\n",
    "![](ghtop_images/header2.png)"
   ]
  },
  {
   "cell_type": "code",
   "execution_count": 10,
   "id": "454af301",
   "metadata": {},
   "outputs": [],
   "source": [
    "import os\n",
    "import sys"
   ]
  },
  {
   "cell_type": "markdown",
   "id": "0b32b6e0",
   "metadata": {},
   "source": [
    "## name of operating system"
   ]
  },
  {
   "cell_type": "code",
   "execution_count": 56,
   "id": "60b486e8",
   "metadata": {},
   "outputs": [
    {
     "name": "stdout",
     "output_type": "stream",
     "text": [
      "os.name , nt \n",
      "\n"
     ]
    }
   ],
   "source": [
    "print('os.name',',',os.name,'\\n')"
   ]
  },
  {
   "cell_type": "markdown",
   "id": "bb884c83",
   "metadata": {},
   "source": [
    "## get current dir"
   ]
  },
  {
   "cell_type": "code",
   "execution_count": 57,
   "id": "77724289",
   "metadata": {},
   "outputs": [
    {
     "name": "stdout",
     "output_type": "stream",
     "text": [
      "os.getcwd() , C:\\Users\\44781\\pyproj\\_misc \n",
      "\n"
     ]
    }
   ],
   "source": [
    "print('os.getcwd()',',',os.getcwd(),'\\n')"
   ]
  },
  {
   "cell_type": "markdown",
   "id": "e2a03019",
   "metadata": {},
   "source": [
    "## list files in dir"
   ]
  },
  {
   "cell_type": "code",
   "execution_count": 58,
   "id": "8d8d7454",
   "metadata": {},
   "outputs": [
    {
     "name": "stdout",
     "output_type": "stream",
     "text": [
      "os.listdir() , ['.ipynb_checkpoints', 'adapic.jpg', 'awarhol.jpg', 'awarhol.webp', 'dog.jpg', 'draw.png', 'ebsd2.tif', 'ebsdmap.png', 'ebsdmap.tif', 'fastAI_C1_notes.ipynb', 'image_1000.jpg', 'image_5000(1).jpg', 'IndeedExtract-Copy1.ipynb', 'IndeedExtract-Copy2.ipynb', 'No_61_Mark_Rothko-thumbnail_webp-9999x9999.webp', 'os.ipynb', 'output', 'PF_500C R.png', 'PythonBook.ipynb', 're.ipynb', 'styleTransfer.ipynb', 'test2', 'Untitled.ipynb', 'vangogh.jpg', 'vgg19_weights_tf_dim_ordering_tf_kernels_notop.h5', 'water.webp'] \n",
      "\n"
     ]
    }
   ],
   "source": [
    "print('os.listdir()',',',os.listdir(),'\\n')"
   ]
  },
  {
   "cell_type": "markdown",
   "id": "ad4be25d",
   "metadata": {},
   "source": [
    "## make a directory"
   ]
  },
  {
   "cell_type": "code",
   "execution_count": 63,
   "id": "cc4dcda1",
   "metadata": {},
   "outputs": [],
   "source": [
    "this_dir=os.getcwd()\n",
    "directory='test'\n",
    "#this adds either / or \\ depending on os\n",
    "path = os.path.join(this_dir, directory)\n",
    "\n",
    "try:\n",
    "    os.mkdir(path)\n",
    "except:\n",
    "    pass\n",
    "\n",
    "#or \n",
    "try:\n",
    "    os.mkdir('test2')\n",
    "except:\n",
    "    pass"
   ]
  },
  {
   "cell_type": "markdown",
   "id": "534f616d",
   "metadata": {},
   "source": [
    "## list files in dir"
   ]
  },
  {
   "cell_type": "code",
   "execution_count": 64,
   "id": "adec5358",
   "metadata": {},
   "outputs": [
    {
     "name": "stdout",
     "output_type": "stream",
     "text": [
      "os.listdir() , ['.ipynb_checkpoints', 'adapic.jpg', 'awarhol.jpg', 'awarhol.webp', 'dog.jpg', 'draw.png', 'ebsd2.tif', 'ebsdmap.png', 'ebsdmap.tif', 'fastAI_C1_notes.ipynb', 'image_1000.jpg', 'image_5000(1).jpg', 'IndeedExtract-Copy1.ipynb', 'IndeedExtract-Copy2.ipynb', 'No_61_Mark_Rothko-thumbnail_webp-9999x9999.webp', 'os.ipynb', 'output', 'PF_500C R.png', 'PythonBook.ipynb', 're.ipynb', 'styleTransfer.ipynb', 'test', 'test2', 'Untitled.ipynb', 'vangogh.jpg', 'vgg19_weights_tf_dim_ordering_tf_kernels_notop.h5', 'water.webp'] \n",
      "\n"
     ]
    }
   ],
   "source": [
    "print('os.listdir()',',',os.listdir(),'\\n')"
   ]
  },
  {
   "cell_type": "markdown",
   "id": "a5eb610e",
   "metadata": {},
   "source": [
    "## Check file/dir exists "
   ]
  },
  {
   "cell_type": "code",
   "execution_count": 65,
   "id": "fff77815",
   "metadata": {},
   "outputs": [
    {
     "name": "stdout",
     "output_type": "stream",
     "text": [
      "True True\n"
     ]
    }
   ],
   "source": [
    "print(os.path.exists(\"test2\"),os.path.exists(\"test\"))"
   ]
  },
  {
   "cell_type": "markdown",
   "id": "e6282d16",
   "metadata": {},
   "source": [
    "## change directory"
   ]
  },
  {
   "cell_type": "code",
   "execution_count": 66,
   "id": "fa5c8682",
   "metadata": {},
   "outputs": [
    {
     "name": "stdout",
     "output_type": "stream",
     "text": [
      "os.getcwd() , C:\\Users\\44781\\pyproj\\_misc\\test \n",
      "\n"
     ]
    }
   ],
   "source": [
    "os.chdir(directory)\n",
    "print('os.getcwd()',',',os.getcwd(),'\\n')"
   ]
  },
  {
   "cell_type": "markdown",
   "id": "7ab0d945",
   "metadata": {},
   "source": [
    "## Create and Rename a file "
   ]
  },
  {
   "cell_type": "code",
   "execution_count": 79,
   "id": "9bd18103",
   "metadata": {},
   "outputs": [
    {
     "name": "stdout",
     "output_type": "stream",
     "text": [
      "old= True . new= False\n",
      "old= False . new= True\n"
     ]
    }
   ],
   "source": [
    "# create a file 'a' is append\n",
    "open('Old.txt','a').close()\n",
    "\n",
    "# check file exists \n",
    "print('old=',os.path.exists(\"Old.txt\"),'. new=',os.path.exists(\"New.txt\"))\n",
    "\n",
    "# rename a file\n",
    "fd = \"Old.txt\"\n",
    "os.rename(fd,'New.txt')\n",
    "\n",
    "# check file exists \n",
    "print('old=',os.path.exists(\"Old.txt\"),'. new=',os.path.exists(\"New.txt\"))\n"
   ]
  },
  {
   "cell_type": "markdown",
   "id": "dcffb7e5",
   "metadata": {},
   "source": [
    "## Copy a file-\n",
    "### can be done in os but easier in shutil\n",
    "\n",
    "https://stackabuse.com/how-to-copy-a-file-in-python/"
   ]
  },
  {
   "cell_type": "code",
   "execution_count": 80,
   "id": "bbe69e32",
   "metadata": {},
   "outputs": [
    {
     "name": "stdout",
     "output_type": "stream",
     "text": [
      "old= True . new= True\n"
     ]
    }
   ],
   "source": [
    "import shutil\n",
    "shutil.copyfile('New.txt', 'Old.txt')\n",
    "\n",
    "# check file exists \n",
    "print('old=',os.path.exists(\"Old.txt\"),'. new=',os.path.exists(\"New.txt\"))"
   ]
  },
  {
   "cell_type": "markdown",
   "id": "b7765ad9",
   "metadata": {},
   "source": [
    "## Remove a file"
   ]
  },
  {
   "cell_type": "code",
   "execution_count": 81,
   "id": "62edc607",
   "metadata": {},
   "outputs": [
    {
     "name": "stdout",
     "output_type": "stream",
     "text": [
      "old= True . new= False\n"
     ]
    }
   ],
   "source": [
    "# remove a file\n",
    "os.remove(\"New.txt\")\n",
    "# os.remove(\"Old.txt\")\n",
    "\n",
    "# check file exists \n",
    "print('old=',os.path.exists(\"Old.txt\"),'. new=',os.path.exists(\"New.txt\"))"
   ]
  },
  {
   "cell_type": "markdown",
   "id": "9ca7e628",
   "metadata": {},
   "source": [
    "## Go back up in directory"
   ]
  },
  {
   "cell_type": "code",
   "execution_count": 84,
   "id": "41756ee8",
   "metadata": {},
   "outputs": [
    {
     "data": {
      "text/plain": [
       "'C:\\\\Users\\\\44781\\\\pyproj'"
      ]
     },
     "execution_count": 84,
     "metadata": {},
     "output_type": "execute_result"
    }
   ],
   "source": [
    "\n",
    "os.path.dirname(os.path.dirname(   ))"
   ]
  },
  {
   "cell_type": "code",
   "execution_count": 42,
   "id": "8ba6df3b",
   "metadata": {},
   "outputs": [
    {
     "name": "stdout",
     "output_type": "stream",
     "text": [
      "os.listdir() , ['.ipynb_checkpoints', 'adapic.jpg', 'awarhol.jpg', 'awarhol.webp', 'dog.jpg', 'draw.png', 'ebsd2.tif', 'ebsdmap.png', 'ebsdmap.tif', 'fastAI_C1_notes.ipynb', 'image_1000.jpg', 'image_5000(1).jpg', 'IndeedExtract-Copy1.ipynb', 'IndeedExtract-Copy2.ipynb', 'No_61_Mark_Rothko-thumbnail_webp-9999x9999.webp', 'os.ipynb', 'output', 'PF_500C R.png', 'PythonBook.ipynb', 're.ipynb', 'styleTransfer.ipynb', 'test2', 'Untitled.ipynb', 'vangogh.jpg', 'vgg19_weights_tf_dim_ordering_tf_kernels_notop.h5', 'water.webp'] \n",
      "\n"
     ]
    }
   ],
   "source": [
    "#remove directory\n",
    "os.rmdir(path)\n",
    "#list files in dir\n",
    "print('os.listdir()',',',os.listdir(),'\\n')"
   ]
  },
  {
   "cell_type": "markdown",
   "metadata": {},
   "source": [
    "## Create new files"
   ]
  },
  {
   "cell_type": "code",
   "execution_count": null,
   "id": "f925e412",
   "metadata": {},
   "outputs": [],
   "source": [
    "#create new file and edit\n",
    "nano file.txt\n",
    "#create file\n",
    "touch file.txt\n"
   ]
  },
  {
   "cell_type": "code",
   "execution_count": 91,
   "id": "a706777f",
   "metadata": {},
   "outputs": [
    {
     "name": "stdout",
     "output_type": "stream",
     "text": [
      "C:\\Users\\44781\\pyproj\\_misc\\test\n"
     ]
    }
   ],
   "source": [
    "!cd\n"
   ]
  }
 ],
 "metadata": {
  "kernelspec": {
   "display_name": "Python 3",
   "language": "python",
   "name": "python3"
  },
  "language_info": {
   "codemirror_mode": {
    "name": "ipython",
    "version": 3
   },
   "file_extension": ".py",
   "mimetype": "text/x-python",
   "name": "python",
   "nbconvert_exporter": "python",
   "pygments_lexer": "ipython3",
   "version": "3.8.8"
  },
  "varInspector": {
   "cols": {
    "lenName": 16,
    "lenType": 16,
    "lenVar": 40
   },
   "kernels_config": {
    "python": {
     "delete_cmd_postfix": "",
     "delete_cmd_prefix": "del ",
     "library": "var_list.py",
     "varRefreshCmd": "print(var_dic_list())"
    },
    "r": {
     "delete_cmd_postfix": ") ",
     "delete_cmd_prefix": "rm(",
     "library": "var_list.r",
     "varRefreshCmd": "cat(var_dic_list()) "
    }
   },
   "types_to_exclude": [
    "module",
    "function",
    "builtin_function_or_method",
    "instance",
    "_Feature"
   ],
   "window_display": false
  }
 },
 "nbformat": 4,
 "nbformat_minor": 5
}
