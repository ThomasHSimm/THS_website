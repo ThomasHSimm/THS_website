{
 "cells": [
  {
   "cell_type": "markdown",
   "id": "ab810389",
   "metadata": {},
   "source": [
    "# Regular expressions RE\n"
   ]
  },
  {
   "cell_type": "markdown",
   "metadata": {},
   "source": [
    "![](ghtop_images/header2.png)"
   ]
  },
  {
   "cell_type": "code",
   "execution_count": null,
   "metadata": {},
   "outputs": [],
   "source": [
    "search for details of text matching a pattern"
   ]
  },
  {
   "cell_type": "code",
   "execution_count": 1,
   "id": "ce89a3e4",
   "metadata": {},
   "outputs": [],
   "source": [
    "import re"
   ]
  },
  {
   "cell_type": "markdown",
   "id": "23677931",
   "metadata": {},
   "source": [
    "Find a string within a string"
   ]
  },
  {
   "cell_type": "code",
   "execution_count": 7,
   "id": "c1882121",
   "metadata": {},
   "outputs": [
    {
     "data": {
      "text/plain": [
       "<re.Match object; span=(1, 4), match='aza'>"
      ]
     },
     "execution_count": 7,
     "metadata": {},
     "output_type": "execute_result"
    }
   ],
   "source": [
    "result = re.search(r\"aza\",\"bazaar\")\n",
    "result"
   ]
  },
  {
   "cell_type": "code",
   "execution_count": 8,
   "id": "ecfcf2ba",
   "metadata": {},
   "outputs": [
    {
     "data": {
      "text/plain": [
       "<re.Match object; span=(2, 5), match='aza'>"
      ]
     },
     "execution_count": 8,
     "metadata": {},
     "output_type": "execute_result"
    }
   ],
   "source": [
    "result = re.search(r\"aza\",\"plaza\")\n",
    "result"
   ]
  },
  {
   "cell_type": "markdown",
   "id": "3d944790",
   "metadata": {},
   "source": [
    "Find a string at the start"
   ]
  },
  {
   "cell_type": "code",
   "execution_count": 9,
   "id": "c4d65927",
   "metadata": {},
   "outputs": [
    {
     "data": {
      "text/plain": [
       "<re.Match object; span=(0, 1), match='x'>"
      ]
     },
     "execution_count": 9,
     "metadata": {},
     "output_type": "execute_result"
    }
   ],
   "source": [
    "re.search(r\"^x\",\"xenon\")"
   ]
  },
  {
   "cell_type": "markdown",
   "id": "79bd265b",
   "metadata": {},
   "source": [
    "The . is a joker button"
   ]
  },
  {
   "cell_type": "code",
   "execution_count": 12,
   "id": "ba3361b8",
   "metadata": {},
   "outputs": [
    {
     "data": {
      "text/plain": [
       "<re.Match object; span=(0, 3), match='xen'>"
      ]
     },
     "execution_count": 12,
     "metadata": {},
     "output_type": "execute_result"
    }
   ],
   "source": [
    "re.search(r\"x.n\",\"xenon\")"
   ]
  },
  {
   "cell_type": "markdown",
   "id": "80b8492d",
   "metadata": {},
   "source": [
    "Character classes are inside square brackets\n",
    "\n",
    "These are OR statements\n",
    "\n",
    "[a-z] is all lowercase letters\n",
    "[A-Z] is upercase letters\n",
    "[0-9] is numbers"
   ]
  },
  {
   "cell_type": "code",
   "execution_count": 29,
   "id": "44511153",
   "metadata": {},
   "outputs": [
    {
     "name": "stdout",
     "output_type": "stream",
     "text": [
      "<re.Match object; span=(0, 6), match='cython'>\n",
      "<re.Match object; span=(0, 6), match='dython'>\n",
      "None\n",
      "<re.Match object; span=(1, 5), match='yway'>\n",
      "<re.Match object; span=(0, 6), match='cloud9'>\n",
      "<re.Match object; span=(0, 1), match='d'>\n"
     ]
    }
   ],
   "source": [
    "print(re.search(r\"[Ppc]ython\",\"cython\"))\n",
    "print(re.search(r\"[a-z]ython\",\"dython\"))\n",
    "print(re.search(r\"[a-z]way\",\"My way\"))\n",
    "print(re.search(r\"[a-z]way\",\"Myway\"))\n",
    "\n",
    "#find cloud with letter or number after it\n",
    "print(re.search(r\"cloud[a-zA-Z0-9]\",\"cloud9\"))\n",
    "print(re.search(r\"[a-zA-Z0-9]\",\"dy9thon\"))"
   ]
  },
  {
   "cell_type": "markdown",
   "id": "5b3d0b08",
   "metadata": {},
   "source": [
    "apply a NOT to all in the character class\n",
    "\n",
    "This uses the pipe class ^"
   ]
  },
  {
   "cell_type": "code",
   "execution_count": 37,
   "id": "822d7d64",
   "metadata": {},
   "outputs": [
    {
     "name": "stdout",
     "output_type": "stream",
     "text": [
      "<re.Match object; span=(3, 4), match=' '>\n",
      "<re.Match object; span=(3, 4), match='_'>\n",
      "<re.Match object; span=(8, 9), match='-'>\n"
     ]
    }
   ],
   "source": [
    "#this finds a space\n",
    "print(re.search(r\"[^a-zA-Z0-9]\",\"dy9 thon\"))\n",
    "#this finds an underscore\n",
    "print(re.search(r\"[^a-zA-Z0-9]\",\"dy9_thon\"))\n",
    "\n",
    "#this includes a not for spaces\n",
    "print(re.search(r\"[^a-zA-Z0-9 ]\",\"dy9 thon-\"))\n"
   ]
  },
  {
   "cell_type": "markdown",
   "id": "20debb88",
   "metadata": {},
   "source": [
    "find a string OR another one"
   ]
  },
  {
   "cell_type": "code",
   "execution_count": 38,
   "id": "712c6f75",
   "metadata": {},
   "outputs": [
    {
     "name": "stdout",
     "output_type": "stream",
     "text": [
      "<re.Match object; span=(7, 10), match='cat'>\n"
     ]
    }
   ],
   "source": [
    "# \n",
    "print(re.search(r\"cat|dog\",\"I ilke cats\"))\n"
   ]
  },
  {
   "cell_type": "markdown",
   "id": "f77a8120",
   "metadata": {},
   "source": [
    "Extension of .\n",
    "\n",
    ".* means can have any length\n",
    "\n",
    "Greedy"
   ]
  },
  {
   "cell_type": "code",
   "execution_count": 42,
   "id": "3a176f0e",
   "metadata": {},
   "outputs": [
    {
     "name": "stdout",
     "output_type": "stream",
     "text": [
      "<re.Match object; span=(0, 17), match='python programmin'>\n",
      "<re.Match object; span=(0, 6), match='python'>\n"
     ]
    }
   ],
   "source": [
    "#this finds something starting with p and ending with n\n",
    "print(re.search(r\"p.*n\",\"python programming\"))\n",
    "\n",
    "#this finds something starting with py ending n but only a-z chars\n",
    "print(re.search(r\"py[a-z]*n\",\"python programming\"))\n"
   ]
  },
  {
   "cell_type": "markdown",
   "id": "3cdaa67e",
   "metadata": {},
   "source": [
    "+ matches one or more occurences of it\n",
    "\n",
    "So o+l looks for ol "
   ]
  },
  {
   "cell_type": "code",
   "execution_count": 46,
   "id": "6834c64e",
   "metadata": {},
   "outputs": [
    {
     "name": "stdout",
     "output_type": "stream",
     "text": [
      "<re.Match object; span=(0, 2), match='ol'>\n",
      "None\n",
      "<re.Match object; span=(0, 3), match='ool'>\n"
     ]
    }
   ],
   "source": [
    "#this works\n",
    "print(re.search(r\"o+l\",\"olly\"))\n",
    "\n",
    "#this fails because there is an i inbetween\n",
    "print(re.search(r\"o+l\",\"oilly\"))\n",
    "\n",
    "#this finds from 1st o to l\n",
    "print(re.search(r\"o+l\",\"oolly\"))"
   ]
  },
  {
   "cell_type": "markdown",
   "id": "ca4b1a7e",
   "metadata": {},
   "source": [
    "? zero or one occurence of the character before it"
   ]
  },
  {
   "cell_type": "code",
   "execution_count": 58,
   "id": "28d38308",
   "metadata": {},
   "outputs": [
    {
     "name": "stdout",
     "output_type": "stream",
     "text": [
      "<re.Match object; span=(3, 7), match='each'>\n",
      "<re.Match object; span=(3, 8), match='peach'>\n",
      "<re.Match object; span=(4, 8), match='each'>\n"
     ]
    }
   ],
   "source": [
    "#\n",
    "print(re.search(r\"p?each\",\"To each their own\"))\n",
    "\n",
    "#\n",
    "print(re.search(r\"p?each\",\"To peach their own\"))\n",
    "\n",
    "#\n",
    "print(re.search(r\"p?each\",\"Top each their own\"))"
   ]
  },
  {
   "cell_type": "markdown",
   "id": "6ee99d34",
   "metadata": {},
   "source": [
    "Check for special characters\n",
    "\n",
    "Putting \\ before finds the special char"
   ]
  },
  {
   "cell_type": "code",
   "execution_count": 72,
   "id": "f3ce2aba",
   "metadata": {},
   "outputs": [
    {
     "name": "stdout",
     "output_type": "stream",
     "text": [
      "<re.Match object; span=(8, 12), match='.com'>\n",
      "<re.Match object; span=(2, 6), match='lcom'>\n",
      "<re.Match object; span=(8, 12), match='.com'>\n",
      "None\n"
     ]
    }
   ],
   "source": [
    "# . here is anything so works here\n",
    "print(re.search(r\".com\",\"internet.com\"))\n",
    "# but not here\n",
    "print(re.search(r\".com\",\"welcome\"))\n",
    "# Add backslash we get it here \n",
    "print(re.search(r\"\\.com\",\"internet.com\"))\n",
    "# and a negative here\n",
    "print(re.search(r\"\\.com\",\"welcome\"))"
   ]
  },
  {
   "cell_type": "markdown",
   "id": "80d432ac",
   "metadata": {},
   "source": [
    "\\w matches letters number and underscores\n",
    "\n",
    "\\d matches digits\n",
    "\n",
    "\\s for whitespace characters, space tab or newline\n",
    "\n",
    "\\b for word boundaries"
   ]
  },
  {
   "cell_type": "code",
   "execution_count": 76,
   "id": "11918c77",
   "metadata": {},
   "outputs": [
    {
     "name": "stdout",
     "output_type": "stream",
     "text": [
      "<re.Match object; span=(0, 8), match='internet'>\n",
      "<re.Match object; span=(0, 14), match='internet99_com'>\n"
     ]
    }
   ],
   "source": [
    "# so get here internet (stops at dot)\n",
    "print(re.search(r\"\\w*\",\"internet.com\"))\n",
    "# and here the whole string\n",
    "print(re.search(r\"\\w*\",\"internet99_com\"))\n",
    "\n"
   ]
  },
  {
   "cell_type": "markdown",
   "id": "f8ee277b",
   "metadata": {},
   "source": [
    "^ Beginning character\n",
    "\n",
    "$ End character "
   ]
  },
  {
   "cell_type": "code",
   "execution_count": 85,
   "id": "c650d075",
   "metadata": {},
   "outputs": [
    {
     "name": "stdout",
     "output_type": "stream",
     "text": [
      "<re.Match object; span=(0, 9), match='Australia'>\n",
      "<re.Match object; span=(0, 9), match='Azerbaija'>\n",
      "<re.Match object; span=(0, 9), match='Australia'>\n",
      "None\n"
     ]
    }
   ],
   "source": [
    "# find country start and end in a\n",
    "\n",
    "# works here\n",
    "print(re.search(r\"A.*a\",\"Australia\"))\n",
    "# anot here as want to end in a\n",
    "print(re.search(r\"A.*a\",\"Azerbaijan\"))\n",
    "\n",
    "#add the begin and end chars- works correct for both\n",
    "print(re.search(r\"^A.*a$\",\"Australia\"))\n",
    "print(re.search(r\"^A.*a$\",\"Azerbaijan\"))"
   ]
  },
  {
   "cell_type": "markdown",
   "id": "bd891cf9",
   "metadata": {},
   "source": [
    "Combine a few\n",
    "\n",
    "This is for valid variable names"
   ]
  },
  {
   "cell_type": "code",
   "execution_count": 93,
   "id": "85bf0d06",
   "metadata": {},
   "outputs": [
    {
     "name": "stdout",
     "output_type": "stream",
     "text": [
      "<re.Match object; span=(0, 10), match='LLnananj_9'>\n",
      "<re.Match object; span=(0, 10), match='LLnananj_9'>\n",
      "None\n"
     ]
    }
   ],
   "source": [
    "# ^[a-zA-Z_] startswith letters or underscore\n",
    "# [a-zA-Z0-9_] then letters, numbers or undercore\n",
    "# *$ end with above\n",
    "pattern=r\"^[a-zA-Z_][a-zA-Z0-9_]*$\"\n",
    "\n",
    "print(re.search(pattern,\"LLnananj_9\"))\n",
    "\n",
    "print(re.search(pattern,\"LLnananj_9\"))\n",
    "print(re.search(pattern,\"9LLnananj_9\"))\n"
   ]
  },
  {
   "cell_type": "markdown",
   "id": "ffc6299b",
   "metadata": {},
   "source": [
    "capturing groups"
   ]
  },
  {
   "cell_type": "code",
   "execution_count": 125,
   "id": "c28ce248",
   "metadata": {},
   "outputs": [
    {
     "name": "stdout",
     "output_type": "stream",
     "text": [
      "<re.Match object; span=(0, 13), match='Lovelace, Ada'>\n",
      "('Lovelace', 'Ada')\n",
      "Lovelace, Ada\n",
      "Lovelace\n",
      "Ada\n",
      "Ada Lovelace\n"
     ]
    }
   ],
   "source": [
    "# start with letters number and underscores  \n",
    "# then comma and space\n",
    "# ends with letters number and underscores\n",
    "result = re.search(r\"^(\\w*), (\\w*)$\",\"Lovelace, Ada\")\n",
    "print(result)\n",
    "\n",
    "print(result.groups())\n",
    "\n",
    "print(result[0])\n",
    "\n",
    "print(result[1])\n",
    "\n",
    "print(result[2])\n",
    "        \n",
    "       #print result2 followed by 1 separated by space\n",
    "print( \"{} {}\".format(result[2], result[1]) )"
   ]
  },
  {
   "cell_type": "markdown",
   "id": "24f7e364",
   "metadata": {},
   "source": [
    "numeric repetition qualifiers\n",
    "\n",
    "[a-z]{n} for a repetition of lower case chars n time "
   ]
  },
  {
   "cell_type": "code",
   "execution_count": 142,
   "id": "b5497920",
   "metadata": {},
   "outputs": [
    {
     "name": "stdout",
     "output_type": "stream",
     "text": [
      "<re.Match object; span=(2, 7), match='ghost'>\n",
      "<re.Match object; span=(2, 7), match='scary'>\n"
     ]
    }
   ],
   "source": [
    "print(re.search(r\"[a-zA-Z]{5}\",\"a ghost\"))\n",
    "\n",
    "# a number but we only get the first\n",
    "print(re.search(r\"[a-zA-Z]{5}\",\"a scary super ghost\"))"
   ]
  },
  {
   "cell_type": "markdown",
   "id": "43c0c44a",
   "metadata": {},
   "source": [
    "re.findall will find all instances\n",
    "\n",
    "and \\b either side we will get a full word"
   ]
  },
  {
   "cell_type": "code",
   "execution_count": 146,
   "id": "959e9669",
   "metadata": {},
   "outputs": [
    {
     "name": "stdout",
     "output_type": "stream",
     "text": [
      "['scary', 'super', 'ghost']\n",
      "['scary', 'super', 'ghost']\n",
      "['scary', 'ghost']\n"
     ]
    }
   ],
   "source": [
    "print(re.findall(r\"[a-zA-Z]{5}\",\"a scary super ghost\"))\n",
    "\n",
    "# but if we give a longer word?\n",
    "print(re.findall(r\"[a-zA-Z]{5}\",\"a scary superior ghost\"))\n",
    "\n",
    "# we get part of the superior word\n",
    "\n",
    "# to get just the words we want of 5 long can use \\b\n",
    "print(re.findall(r\"\\b[a-zA-Z]{5}\\b\",\"a scary superior ghost\"))"
   ]
  },
  {
   "cell_type": "markdown",
   "id": "81fb42d8",
   "metadata": {},
   "source": [
    "[a-z]{n,m}  repetition between n and m\n",
    "\n",
    "[a-z]{n,}   repetition of n or more\n",
    "\n",
    "[a-z]{,n}   repetitions of n or less"
   ]
  },
  {
   "cell_type": "code",
   "execution_count": 180,
   "id": "0e42ef9c",
   "metadata": {},
   "outputs": [
    {
     "name": "stdout",
     "output_type": "stream",
     "text": [
      "['ab', 'abc', 'abcd']\n",
      "['ab', 'abc', 'abcd', 'abcd', 'abcd', 'ef']\n",
      "['ab', 'abc', 'abcd', 'abcde', 'abcdef']\n",
      "['a', '', 'ab', '', 'abc', '', '', '', '', '', '', '']\n"
     ]
    }
   ],
   "source": [
    "#between 2 and 4 exactly  full word\n",
    "print(re.findall(r\"\\b[a-zA-Z]{2,4}\\b\",\"a ab abc abcd abcde abcdef\"))\n",
    "\n",
    "#NB \\b needed otherwise see below\n",
    "print(re.findall(r\"[a-zA-Z]{2,4}\",\"a ab abc abcd abcde abcdef\"))\n",
    "\n",
    "# 2 and above full word\n",
    "print(re.findall(r\"\\b[a-zA-Z]{2,}\\b\",\"a ab abc abcd abcde abcdef\"))\n",
    "\n",
    "# {,3} up to this many reps\n",
    "print(re.findall(r\"\\b[a-zA-Z]{,3}\\b\",\"a ab abc abcd abcde abcdef\"))"
   ]
  },
  {
   "cell_type": "code",
   "execution_count": null,
   "id": "8d276976",
   "metadata": {},
   "outputs": [],
   "source": []
  },
  {
   "cell_type": "code",
   "execution_count": 176,
   "id": "7c7eb0c3",
   "metadata": {},
   "outputs": [
    {
     "name": "stdout",
     "output_type": "stream",
     "text": [
      "[12345]\n"
     ]
    }
   ],
   "source": [
    "log = \"July 31 07:51:48 mycomputer bad_process[12345]: ERROR Performing package upgrade\"\n",
    "# has [ followed by digits at least 1 followed by ]\n",
    "regex= r\"\\[(\\d+)\\]\"\n",
    "result= re.search(regex,log)\n",
    "print(result[0])"
   ]
  },
  {
   "cell_type": "code",
   "execution_count": 184,
   "id": "56b4ee51",
   "metadata": {},
   "outputs": [
    {
     "name": "stdout",
     "output_type": "stream",
     "text": [
      "12345\n",
      "\n"
     ]
    }
   ],
   "source": [
    "def extract_pid(log_line):\n",
    "    regex= r\"\\[(\\d+)\\]\"\n",
    "    result=re.search(regex,log_line)\n",
    "    if result is None:\n",
    "        return \"\"\n",
    "    return result[1]\n",
    "\n",
    "print(extract_pid(log))\n",
    "print(extract_pid(\"[cat]  sass\"))\n"
   ]
  },
  {
   "cell_type": "markdown",
   "id": "c2f2fcd1",
   "metadata": {},
   "source": [
    "re.split  split based on some characters \n",
    "\n",
    "re.sub    substitute values\n",
    "\n",
    "With sub\n",
    "\n",
    "     \"A\",\"B\",\"C\"\n",
    "     A=pattern\n",
    "     B=what to put as replacement\n",
    "     C=full text\n"
   ]
  },
  {
   "cell_type": "code",
   "execution_count": 231,
   "id": "bbb5f86c",
   "metadata": {},
   "outputs": [
    {
     "name": "stdout",
     "output_type": "stream",
     "text": [
      "['One sentence', ' Another one', ' And the last one', '']\n",
      "['One sentence', '.', ' Another one', '?', ' And the last one', '!', '']\n"
     ]
    }
   ],
   "source": [
    "print(re.split(r\"[.?!]\",\"One sentence. Another one? And the last one!\"))\n",
    "\n",
    "print(re.split(r\"([.?!])\",\"One sentence. Another one? And the last one!\"))"
   ]
  },
  {
   "cell_type": "code",
   "execution_count": 235,
   "id": "ff8a6331",
   "metadata": {},
   "outputs": [
    {
     "name": "stdout",
     "output_type": "stream",
     "text": [
      "Received an email for [REDACTED]\n"
     ]
    }
   ],
   "source": [
    "# (char num _) at least one + folowed by @ with char dot or dash at least one +\n",
    "\n",
    "print(re.sub(r\"[\\w.%+-]+@[\\w.-]+\",\"[REDACTED]\",\"Received an email for go_nuts95@my.examle.com\"))\n"
   ]
  },
  {
   "cell_type": "code",
   "execution_count": 247,
   "id": "cc3bae66",
   "metadata": {},
   "outputs": [
    {
     "name": "stdout",
     "output_type": "stream",
     "text": [
      "Lovelace, Ada Lovelace Ada\n"
     ]
    },
    {
     "data": {
      "text/plain": [
       "'Ada Lovelace'"
      ]
     },
     "execution_count": 247,
     "metadata": {},
     "output_type": "execute_result"
    }
   ],
   "source": [
    "texta = \"Lovelace, Ada\"\n",
    "patt = r\"^([\\w]*), ([\\w]*$)\"\n",
    "res=re.search(patt, texta)\n",
    "print(res[0],res[1],res[2])\n",
    "\n",
    "     #this says sub with: result2 space result 1\n",
    "re.sub(patt, r\"\\2 \\1\",texta)"
   ]
  },
  {
   "cell_type": "markdown",
   "id": "8a90312c",
   "metadata": {},
   "source": [
    "## Some Examples"
   ]
  },
  {
   "cell_type": "code",
   "execution_count": 64,
   "id": "325e3459",
   "metadata": {},
   "outputs": [
    {
     "name": "stdout",
     "output_type": "stream",
     "text": [
      "True\n",
      "False\n",
      "True\n",
      "True\n"
     ]
    }
   ],
   "source": [
    "import re\n",
    "def repeating_letter_a(text):\n",
    "    #here we go A or a - followed by a-z or space- followed by a or A  \n",
    "    result = re.search(r\"(a|A)[a-z ]*(a|A)\", text)\n",
    "\n",
    "    return result != None\n",
    "\n",
    "print(repeating_letter_a(\"banana\")) # True\n",
    "print(repeating_letter_a(\"pineapple\")) # False\n",
    "print(repeating_letter_a(\"Animal Kingdom\")) # True\n",
    "print(repeating_letter_a(\"A is for apple\")) # True"
   ]
  },
  {
   "cell_type": "code",
   "execution_count": 81,
   "id": "f2f9aa8f",
   "metadata": {},
   "outputs": [
    {
     "name": "stdout",
     "output_type": "stream",
     "text": [
      "False\n",
      "True\n",
      "True\n",
      "False\n"
     ]
    }
   ],
   "source": [
    "# Fill in the code to check if the text\n",
    "# passed has at least 2 groups of alphanumeric characters \n",
    "# (including letters, numbers, and underscores)\n",
    "# separated by one or more whitespace characters.\n",
    "import re\n",
    "def check_character_groups(text):\n",
    "  result = re.search(r\"\\w\\s\\w\", text)\n",
    "  return result != None\n",
    "\n",
    "print(check_character_groups(\"One\")) # False\n",
    "print(check_character_groups(\"123  Ready Set GO\")) # True\n",
    "print(check_character_groups(\"username user_01\")) # True\n",
    "print(check_character_groups(\"shopping_list: milk, bread, eggs.\")) # False"
   ]
  },
  {
   "cell_type": "code",
   "execution_count": 108,
   "id": "0a13b18d",
   "metadata": {},
   "outputs": [
    {
     "name": "stdout",
     "output_type": "stream",
     "text": [
      "True\n",
      "False\n",
      "True\n",
      "False\n",
      "True\n"
     ]
    }
   ],
   "source": [
    "import re\n",
    "def check_web_address(text):\n",
    "\n",
    "# starts with letters,numbers,underscores\n",
    "# followed by a dot then ends with letters,numbers,underscores\n",
    "    pattern = r\"\\w\\.\\w*$\"\n",
    "    result = re.search(pattern, text)\n",
    "    return result != None\n",
    "\n",
    "print(check_web_address(\"gmail.com\")) # True\n",
    "print(check_web_address(\"www@google\")) # False\n",
    "print(check_web_address(\"www.Coursera.org\")) # True\n",
    "print(check_web_address(\"web-address.com/homepage\")) # False\n",
    "print(check_web_address(\"My_Favorite-Blog.US\")) # True\n"
   ]
  },
  {
   "cell_type": "code",
   "execution_count": 139,
   "id": "62f24bcc",
   "metadata": {},
   "outputs": [
    {
     "name": "stdout",
     "output_type": "stream",
     "text": [
      "John F. Kennedy\n",
      "John Franklin Kennedy\n"
     ]
    }
   ],
   "source": [
    "import re\n",
    "def rearrange_name(name):\n",
    "    result = re.search(r\"^([\\w \\.-]*), ([\\w \\.-]*)$\", name)\n",
    "    if result == None:\n",
    "        \n",
    "        return name\n",
    "        \n",
    "    return \"{} {}\".format(result[2], result[1])\n",
    "\n",
    "name=rearrange_name(\"Kennedy, John F.\")\n",
    "print(name)\n",
    "\n",
    "name=rearrange_name(\"Kennedy, John Franklin\")\n",
    "print(name)"
   ]
  },
  {
   "cell_type": "code",
   "execution_count": 158,
   "id": "93aac6db",
   "metadata": {},
   "outputs": [
    {
     "name": "stdout",
     "output_type": "stream",
     "text": [
      "['morning']\n",
      "['chocolate', 'afternoon']\n",
      "[]\n"
     ]
    }
   ],
   "source": [
    "#words of at least 7 chars\n",
    "import re\n",
    "def long_words(text):\n",
    "    #this says full words (\\b) with chars [A-Za-z] repeated 7 times or more {7,}\n",
    "    pattern = r\"\\b[A-Za-z]{7,}\\b\"\n",
    "    result = re.findall(pattern, text)\n",
    "    return result\n",
    "\n",
    "print(long_words(\"I like to drink coffee in the morning.\")) # ['morning']\n",
    "print(long_words(\"I also have a taste for hot chocolate in the afternoon.\")) # ['chocolate', 'afternoon']\n",
    "print(long_words(\"I never drink tea late at night.\")) # []\n",
    "\n",
    "\n"
   ]
  },
  {
   "cell_type": "code",
   "execution_count": 237,
   "id": "c8b9602c",
   "metadata": {},
   "outputs": [
    {
     "name": "stdout",
     "output_type": "stream",
     "text": [
      "None\n",
      "None\n",
      "None\n",
      "None\n"
     ]
    }
   ],
   "source": [
    "# Add to the regular expression used in the extract_pid function, \n",
    "# to return the uppercase message in parenthesis, after the process id.\n",
    "\n",
    "import re\n",
    "def extract_pid(log_line):\n",
    "    regex = r\"(\\[(\\d+)\\]), (\\b[A-Z]{2,}\\b)\"  #\n",
    "    result = re.search(regex, log_line)\n",
    "    if result is None:\n",
    "        return None\n",
    "    print(result)\n",
    "    return result[0]#\"{} ({})\".format(result[1],result[2])\n",
    "\n",
    "print(extract_pid(\"July 31 07:51:48 mycomputer bad_process[12345]: ERROR Performing package upgrade\")) # 12345 (ERROR)\n",
    "print(extract_pid(\"99 elephants in a [cage]\")) # None\n",
    "print(extract_pid(\"A string that also has numbers [34567] but no uppercase message\")) # None\n",
    "print(extract_pid(\"July 31 08:08:08 mycomputer new_process[67890]: RUNNING Performing backup\")) # 67890 (RUNNING)\n"
   ]
  },
  {
   "cell_type": "code",
   "execution_count": 250,
   "id": "077cdd93",
   "metadata": {},
   "outputs": [
    {
     "data": {
      "text/plain": [
       "['One sentence. Ano', 'r one? And ', ' l', 'st one!']"
      ]
     },
     "execution_count": 250,
     "metadata": {},
     "output_type": "execute_result"
    }
   ],
   "source": [
    "# We want to split a piece of text by either the word \"a\" or \"the\", \n",
    "# as implemented in the following code. \n",
    "# What is the resulting split list?\n",
    "\n",
    "re.split(r\"the|a\", \"One sentence. Another one? And the last one!\")\n"
   ]
  },
  {
   "cell_type": "code",
   "execution_count": 278,
   "id": "2e2446be",
   "metadata": {},
   "outputs": [
    {
     "name": "stdout",
     "output_type": "stream",
     "text": [
      "Sabrina Green,+1-802-867-5309,System Administrator\n",
      "Eli Jones,+1-684-3481127,IT specialist\n",
      "Melody Daniels,+1-846-687-7436,Programmer\n",
      "Charlie Rivera,+1-698-746-3357,Web Developer\n"
     ]
    }
   ],
   "source": [
    "import re\n",
    "def transform_record(record):\n",
    "    pat = r\"(\\b[A-Za-z ]{2,}\\b),([0-9-]{2,}),(\\b[A-Za-z ]{2,}\\b)\"\n",
    "    new_record = re.sub(pat,r\"\\1,+1-\\2,\\3\",record)\n",
    "    \n",
    "    return new_record\n",
    "\n",
    "print(transform_record(\"Sabrina Green,802-867-5309,System Administrator\")) \n",
    "# Sabrina Green,+1-802-867-5309,System Administrator\n",
    "\n",
    "print(transform_record(\"Eli Jones,684-3481127,IT specialist\")) \n",
    "# Eli Jones,+1-684-3481127,IT specialist\n",
    "\n",
    "print(transform_record(\"Melody Daniels,846-687-7436,Programmer\")) \n",
    "# Melody Daniels,+1-846-687-7436,Programmer\n",
    "\n",
    "print(transform_record(\"Charlie Rivera,698-746-3357,Web Developer\")) \n",
    "# Charlie Rivera,+1-698-746-3357,Web Developer"
   ]
  },
  {
   "cell_type": "code",
   "execution_count": 293,
   "id": "3d1bfc3d",
   "metadata": {},
   "outputs": [
    {
     "name": "stdout",
     "output_type": "stream",
     "text": [
      "['beautiful']\n",
      "['Obviously', 'queen', 'courageous', 'gracious']\n",
      "['rambunctious', 'quietly', 'delicious']\n",
      "['queue']\n",
      "[]\n"
     ]
    }
   ],
   "source": [
    "import re\n",
    "def multi_vowel_words(text):\n",
    "  pattern = r\"[A-Za-z]*[aeiou]{3,}[a-z]*\"\n",
    "  result = re.findall(pattern, text)\n",
    "  return result\n",
    "\n",
    "print(multi_vowel_words(\"Life is beautiful\")) \n",
    "# ['beautiful']\n",
    "\n",
    "print(multi_vowel_words(\"Obviously, the queen is courageous and gracious.\")) \n",
    "# ['Obviously', 'queen', 'courageous', 'gracious']\n",
    "\n",
    "print(multi_vowel_words(\"The rambunctious children had to sit quietly and await their delicious dinner.\")) \n",
    "# ['rambunctious', 'quietly', 'delicious']\n",
    "\n",
    "print(multi_vowel_words(\"The order of a data queue is First In First Out (FIFO)\")) \n",
    "# ['queue']\n",
    "\n",
    "print(multi_vowel_words(\"Hello world!\")) \n",
    "# []"
   ]
  },
  {
   "cell_type": "code",
   "execution_count": 294,
   "id": "4686ea5c",
   "metadata": {},
   "outputs": [
    {
     "name": "stdout",
     "output_type": "stream",
     "text": [
      "// Start of program\n",
      "  number = 0   // Initialize the variable\n",
      "  number += 1   // Increment the variable\n",
      "  return(number)\n"
     ]
    }
   ],
   "source": [
    "import re\n",
    "def transform_comments(line_of_code):\n",
    "    patt=r\"#{1,}\"\n",
    "    result = re.sub(patt,\"//\",line_of_code)\n",
    "    return result\n",
    "\n",
    "print(transform_comments(\"### Start of program\")) \n",
    "# Should be \"// Start of program\"\n",
    "print(transform_comments(\"  number = 0   ## Initialize the variable\")) \n",
    "# Should be \"  number = 0   // Initialize the variable\"\n",
    "print(transform_comments(\"  number += 1   # Increment the variable\")) \n",
    "# Should be \"  number += 1   // Increment the variable\"\n",
    "print(transform_comments(\"  return(number)\")) \n",
    "# Should be \"  return(number)\""
   ]
  },
  {
   "cell_type": "code",
   "execution_count": 319,
   "id": "37594c8c",
   "metadata": {},
   "outputs": [
    {
     "name": "stdout",
     "output_type": "stream",
     "text": [
      "My number is resa[0],resa[1]-resa[0],resa[1]-resa[0],resa[1].\n",
      "Please call resa[0],resa[1]-resa[0],resa[1]-resa[0],resa[1]\n",
      "resa[0],resa[1]-resa[0],resa[1]-resa[0],resa[1]\n",
      "Phone number of Buckingham Palace is +resa[0],resa[1] resa[0],resa[1] resa[0],resa[1] resa[0],resa[1]\n"
     ]
    }
   ],
   "source": [
    "import re\n",
    "def convert_phone_number(phone):\n",
    "    patt = r\"[0-9]{1,}\"\n",
    "    resa=re.findall(patt,phone)\n",
    "    result = re.sub(patt,r\"resa[0],resa[1]\",phone)\n",
    "    return result\n",
    "\n",
    "print(convert_phone_number(\"My number is 212-345-9999.\")) \n",
    "# My number is (212) 345-9999.\n",
    "print(convert_phone_number(\"Please call 888-555-1234\")) \n",
    "# Please call (888) 555-1234\n",
    "print(convert_phone_number(\"123-123-12345\")) \n",
    "# 123-123-12345\n",
    "print(convert_phone_number(\"Phone number of Buckingham Palace is +44 303 123 7300\")) \n",
    "# Phone number of Buckingham Palace is +44 303 123 7300"
   ]
  }
 ],
 "metadata": {
  "kernelspec": {
   "display_name": "Python 3",
   "language": "python",
   "name": "python3"
  },
  "language_info": {
   "codemirror_mode": {
    "name": "ipython",
    "version": 3
   },
   "file_extension": ".py",
   "mimetype": "text/x-python",
   "name": "python",
   "nbconvert_exporter": "python",
   "pygments_lexer": "ipython3",
   "version": "3.8.8"
  },
  "varInspector": {
   "cols": {
    "lenName": 16,
    "lenType": 16,
    "lenVar": 40
   },
   "kernels_config": {
    "python": {
     "delete_cmd_postfix": "",
     "delete_cmd_prefix": "del ",
     "library": "var_list.py",
     "varRefreshCmd": "print(var_dic_list())"
    },
    "r": {
     "delete_cmd_postfix": ") ",
     "delete_cmd_prefix": "rm(",
     "library": "var_list.r",
     "varRefreshCmd": "cat(var_dic_list()) "
    }
   },
   "types_to_exclude": [
    "module",
    "function",
    "builtin_function_or_method",
    "instance",
    "_Feature"
   ],
   "window_display": false
  }
 },
 "nbformat": 4,
 "nbformat_minor": 5
}
