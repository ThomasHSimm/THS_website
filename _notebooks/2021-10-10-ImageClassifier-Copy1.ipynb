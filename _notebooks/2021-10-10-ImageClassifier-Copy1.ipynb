{
 "cells": [
  {
   "cell_type": "markdown",
   "metadata": {},
   "source": [
    "# Building a Classifier App with weblink\n",
    "> Creating an image classifier app that is on the net! Using Jupyter notebooks, FastAi, Binder and Voila\n",
    "\n",
    "- toc:true- branch: master\n",
    "- badges: true\n",
    "- comments: true\n",
    "- author: Thomas H. Simm\n",
    "- categories: [fastai, jupyter, Binder, Voila, myBinder, ThomasHSimm]"
   ]
  },
  {
   "cell_type": "markdown",
   "metadata": {},
   "source": [
    "1) The Model Part\n",
    "\n",
    "2) The Python Part Of the App\n",
    "\n",
    "3) The Binder Part"
   ]
  },
  {
   "cell_type": "markdown",
   "metadata": {},
   "source": [
    "## 1) The model Part"
   ]
  },
  {
   "cell_type": "markdown",
   "metadata": {},
   "source": [
    "The model was run on https://colab.research.google.com with a GPU\n",
    "\n",
    "Necessary to have a GPU for time"
   ]
  },
  {
   "cell_type": "markdown",
   "metadata": {},
   "source": [
    "Some imports and installs"
   ]
  },
  {
   "cell_type": "markdown",
   "metadata": {},
   "source": [
    "!pip install -Uqq fastbook\n",
    "import fastbook\n",
    "fastbook.setup_book()"
   ]
  },
  {
   "cell_type": "markdown",
   "metadata": {},
   "source": [
    "from fastbook import *\n",
    "from fastai.vision.widgets import *"
   ]
  },
  {
   "cell_type": "markdown",
   "metadata": {},
   "source": [
    "Gets Azure search key to use Bing search API"
   ]
  },
  {
   "cell_type": "markdown",
   "metadata": {},
   "source": [
    "\n",
    "key = os.environ.get('AZURE_SEARCH_KEY', 'keygoeshere')"
   ]
  },
  {
   "cell_type": "markdown",
   "metadata": {},
   "source": [
    "I'm going to do a classifier for holiday types"
   ]
  },
  {
   "cell_type": "markdown",
   "metadata": {},
   "source": [
    "destas={'beach':{'beach','tropical','sea','beach holidays'},\n",
    "        'snow':{'ski','snowboard','snow','ski holidays'},\n",
    "        'countryside':{'lakes mountains','countryside','forest','fields'},\n",
    "        'city':{'city','cities','bars','buildings'},\n",
    "        'safari':{'safari','safari holidays','safari park','safari africa'}}"
   ]
  },
  {
   "cell_type": "markdown",
   "metadata": {},
   "source": [
    "Creates a folder containing images for each type\n",
    "\n",
    "Need to add to dir with different searches not delete and add new stuff each time\n",
    "\n",
    "For eaach holiday type- go through the search topics and add the results together before downloading images to the holiday type folder\n",
    "\n",
    "This gives 600 pics per holiday type"
   ]
  },
  {
   "cell_type": "markdown",
   "metadata": {},
   "source": [
    "path = Path('Destinations')\n",
    "try:\n",
    "    path.mkdir()\n",
    "except:\n",
    "    pass"
   ]
  }
 ],
 "metadata": {
  "kernelspec": {
   "display_name": "Python 3",
   "language": "python",
   "name": "python3"
  },
  "language_info": {
   "codemirror_mode": {
    "name": "ipython",
    "version": 3
   },
   "file_extension": ".py",
   "mimetype": "text/x-python",
   "name": "python",
   "nbconvert_exporter": "python",
   "pygments_lexer": "ipython3",
   "version": "3.8.8"
  },
  "varInspector": {
   "cols": {
    "lenName": 16,
    "lenType": 16,
    "lenVar": 40
   },
   "kernels_config": {
    "python": {
     "delete_cmd_postfix": "",
     "delete_cmd_prefix": "del ",
     "library": "var_list.py",
     "varRefreshCmd": "print(var_dic_list())"
    },
    "r": {
     "delete_cmd_postfix": ") ",
     "delete_cmd_prefix": "rm(",
     "library": "var_list.r",
     "varRefreshCmd": "cat(var_dic_list()) "
    }
   },
   "types_to_exclude": [
    "module",
    "function",
    "builtin_function_or_method",
    "instance",
    "_Feature"
   ],
   "window_display": false
  }
 },
 "nbformat": 4,
 "nbformat_minor": 5
}
