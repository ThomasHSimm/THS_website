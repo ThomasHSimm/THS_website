{
 "cells": [
  {
   "cell_type": "markdown",
   "id": "f690ba59",
   "metadata": {},
   "source": [
    "# Building a Classifier App with weblink\n",
    "> Creating an image classifier app that is on the net! Using Jupyter notebooks, FastAi, Binder and Voila\n",
    "\n",
    "- toc:true\n",
    "- branch: master\n",
    "- badges: true\n",
    "- comments: true\n",
    "- author: Thomas H. Simm\n",
    "- categories: [fastai, jupyter, Binder, Voila, myBinder, ThomasHSimm]"
   ]
  },
  {
   "cell_type": "markdown",
   "id": "8c5b1bee",
   "metadata": {},
   "source": [
    "1) The Model Part\n",
    "\n",
    "2) The Python Part Of the App\n",
    "\n",
    "3) The Binder Part"
   ]
  },
  {
   "cell_type": "markdown",
   "id": "ea75b956",
   "metadata": {},
   "source": [
    "## 1) The model Part"
   ]
  },
  {
   "cell_type": "markdown",
   "id": "0cb2aa90",
   "metadata": {},
   "source": [
    "The model was run on https://colab.research.google.com with a GPU\n",
    "\n",
    "Necessary to have a GPU for time"
   ]
  },
  {
   "cell_type": "markdown",
   "id": "57d4ebbe",
   "metadata": {},
   "source": [
    "Some imports and installs"
   ]
  },
  {
   "cell_type": "code",
   "execution_count": null,
   "id": "50c2b04b",
   "metadata": {},
   "outputs": [],
   "source": [
    "!pip install -Uqq fastbook\n",
    "import fastbook\n",
    "fastbook.setup_book()"
   ]
  },
  {
   "cell_type": "code",
   "execution_count": null,
   "id": "cd869735",
   "metadata": {},
   "outputs": [],
   "source": [
    "from fastbook import *\n",
    "from fastai.vision.widgets import *"
   ]
  },
  {
   "cell_type": "markdown",
   "id": "52940054",
   "metadata": {},
   "source": [
    "Gets Azure search key to use Bing search API"
   ]
  },
  {
   "cell_type": "code",
   "execution_count": null,
   "id": "0cb86301",
   "metadata": {},
   "outputs": [],
   "source": [
    "\n",
    "key = os.environ.get('AZURE_SEARCH_KEY', 'keygoeshere')"
   ]
  },
  {
   "cell_type": "markdown",
   "id": "1c4ef2bc",
   "metadata": {},
   "source": [
    "I'm going to do a classifier for holiday types"
   ]
  },
  {
   "cell_type": "code",
   "execution_count": null,
   "id": "74e4748d",
   "metadata": {},
   "outputs": [],
   "source": [
    "destas={'beach':{'beach','tropical','sea','beach holidays'},\n",
    "        'snow':{'ski','snowboard','snow','ski holidays'},\n",
    "        'countryside':{'lakes mountains','countryside','forest','fields'},\n",
    "        'city':{'city','cities','bars','buildings'},\n",
    "        'safari':{'safari','safari holidays','safari park','safari africa'}}"
   ]
  },
  {
   "cell_type": "markdown",
   "id": "d7c0ea9e",
   "metadata": {},
   "source": [
    "Creates a folder containing images for each type\n",
    "\n",
    "Need to add to dir with different searches not delete and add new stuff each time\n",
    "\n",
    "For eaach holiday type- go through the search topics and add the results together before downloading images to the holiday type folder\n",
    "\n",
    "This gives 600 pics per holiday type"
   ]
  },
  {
   "cell_type": "code",
   "execution_count": null,
   "id": "b1831dbe",
   "metadata": {},
   "outputs": [],
   "source": [
    "path = Path('Destinations')\n",
    "try:\n",
    "    path.mkdir()\n",
    "except:\n",
    "    pass"
   ]
  },
  {
   "cell_type": "code",
   "execution_count": null,
   "id": "1eeb93ec",
   "metadata": {},
   "outputs": [],
   "source": [
    "\n",
    "# resultsALL\n",
    "for o in destas:\n",
    "    dest = (path/o)\n",
    "    dest.mkdir(exist_ok=True)\n",
    "    for ii,oo in enumerate(destas[o]): \n",
    "        # print(oo)\n",
    "        results = search_images_bing(key, f'{oo}')\n",
    "        if ii>0:\n",
    "            resultsALL = L(resultsALL,results).concat()\n",
    "        else:\n",
    "            resultsALL=results\n",
    "    print(o)\n",
    "    print(np.shape(resultsALL))\n",
    "    download_images(dest, urls=resultsALL.attrgot('contentUrl'))\n"
   ]
  },
  {
   "cell_type": "markdown",
   "id": "0697e64d",
   "metadata": {},
   "source": [
    "Create a data block for fastai"
   ]
  },
  {
   "cell_type": "code",
   "execution_count": null,
   "id": "39861b55",
   "metadata": {},
   "outputs": [],
   "source": [
    "fns = get_image_files(path)\n",
    "\n",
    "dests = DataBlock(\n",
    "    blocks=(ImageBlock, CategoryBlock), \n",
    "    get_items=get_image_files, \n",
    "    splitter=RandomSplitter(valid_pct=0.2, seed=42),\n",
    "    get_y=parent_label,\n",
    "    item_tfms=Resize(128))"
   ]
  },
  {
   "cell_type": "markdown",
   "id": "fc83ecdd",
   "metadata": {},
   "source": [
    "get rid of failed images"
   ]
  },
  {
   "cell_type": "code",
   "execution_count": null,
   "id": "eabddcff",
   "metadata": {},
   "outputs": [],
   "source": [
    "failed = verify_images(fns)\n",
    "failed.map(Path.unlink)\n",
    "failed"
   ]
  },
  {
   "cell_type": "markdown",
   "id": "607d8e19",
   "metadata": {},
   "source": [
    "Have a look at the images\n"
   ]
  },
  {
   "cell_type": "code",
   "execution_count": null,
   "id": "c98db108",
   "metadata": {},
   "outputs": [],
   "source": [
    "dls = dests.dataloaders(path)\n",
    "dls.valid.show_batch(max_n=40, nrows=10)"
   ]
  },
  {
   "cell_type": "markdown",
   "id": "4bc5ca07",
   "metadata": {},
   "source": [
    "![]({{ site.baseurl }}/images/ic1.png)"
   ]
  },
  {
   "cell_type": "markdown",
   "id": "edd76d60",
   "metadata": {},
   "source": [
    "create a dls for the learner\n",
    "\n",
    "- randomresizedcrop\n",
    "- default aug transforms\n"
   ]
  },
  {
   "cell_type": "code",
   "execution_count": null,
   "id": "3e738e63",
   "metadata": {},
   "outputs": [],
   "source": [
    "dests = dests.new(\n",
    "    item_tfms=RandomResizedCrop(224, min_scale=0.5),\n",
    "    batch_tfms=aug_transforms())\n",
    "dls = dests.dataloaders(path)"
   ]
  },
  {
   "cell_type": "code",
   "execution_count": null,
   "id": "28245603",
   "metadata": {},
   "outputs": [],
   "source": [
    "Do the learning over 4 epochs"
   ]
  }
 ],
 "metadata": {
  "kernelspec": {
   "display_name": "Python 3",
   "language": "python",
   "name": "python3"
  },
  "language_info": {
   "codemirror_mode": {
    "name": "ipython",
    "version": 3
   },
   "file_extension": ".py",
   "mimetype": "text/x-python",
   "name": "python",
   "nbconvert_exporter": "python",
   "pygments_lexer": "ipython3",
   "version": "3.8.8"
  },
  "varInspector": {
   "cols": {
    "lenName": 16,
    "lenType": 16,
    "lenVar": 40
   },
   "kernels_config": {
    "python": {
     "delete_cmd_postfix": "",
     "delete_cmd_prefix": "del ",
     "library": "var_list.py",
     "varRefreshCmd": "print(var_dic_list())"
    },
    "r": {
     "delete_cmd_postfix": ") ",
     "delete_cmd_prefix": "rm(",
     "library": "var_list.r",
     "varRefreshCmd": "cat(var_dic_list()) "
    }
   },
   "types_to_exclude": [
    "module",
    "function",
    "builtin_function_or_method",
    "instance",
    "_Feature"
   ],
   "window_display": false
  }
 },
 "nbformat": 4,
 "nbformat_minor": 5
}
