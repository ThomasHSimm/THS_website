{
 "cells": [
  {
   "cell_type": "markdown",
   "id": "933b100d",
   "metadata": {},
   "source": [
    "# Python Learnings"
   ]
  },
  {
   "cell_type": "markdown",
   "metadata": {},
   "source": [
    "![](ghtop_images/header2.png)"
   ]
  },
  {
   "cell_type": "markdown",
   "metadata": {},
   "source": [
    "![](ghtop_images/montyp.jpg)"
   ]
  },
  {
   "cell_type": "markdown",
   "id": "788a5cb3",
   "metadata": {},
   "source": [
    "# Introducing Python Object Types\n",
    "Based on Chapter 4 of \"Learning Python\", 4th Edition, Mark Lutz, O'Reilly"
   ]
  },
  {
   "cell_type": "markdown",
   "metadata": {},
   "source": [
    "## Some maths"
   ]
  },
  {
   "cell_type": "code",
   "execution_count": null,
   "id": "90484fc2",
   "metadata": {},
   "outputs": [],
   "source": [
    "import math\n",
    "print(math.pi)\n",
    "print(math.sqrt(34))"
   ]
  },
  {
   "cell_type": "code",
   "execution_count": null,
   "id": "4119b288",
   "metadata": {},
   "outputs": [],
   "source": [
    "import random\n",
    "print(random.random())\n",
    "\n",
    "print(random.choice([1,2,3,4]))\n",
    "print(random.choice([1,2,3,4]))"
   ]
  },
  {
   "cell_type": "markdown",
   "metadata": {},
   "source": [
    "## Indexing"
   ]
  },
  {
   "cell_type": "code",
   "execution_count": null,
   "id": "21054f98",
   "metadata": {},
   "outputs": [],
   "source": [
    "S='Spam'\n",
    "\n",
    "print(S[1:3])\n",
    "print(S[:-1])\n",
    "print(S[1:])\n",
    "print(S[:])\n",
    "print(S*3)"
   ]
  },
  {
   "cell_type": "markdown",
   "id": "4277d792",
   "metadata": {},
   "source": [
    "## Immutability"
   ]
  },
  {
   "cell_type": "code",
   "execution_count": null,
   "id": "8673aeac",
   "metadata": {},
   "outputs": [],
   "source": [
    "\n",
    "# strings are not immutable\n",
    "S[0]='p' ##error"
   ]
  },
  {
   "cell_type": "code",
   "execution_count": null,
   "id": "df4a29b5",
   "metadata": {},
   "outputs": [],
   "source": [
    "# but we can create a new string\n",
    "S = 'z' +S[1:]\n",
    "print(S)\n",
    "#or use replaces"
   ]
  },
  {
   "cell_type": "markdown",
   "id": "c0bc244a",
   "metadata": {},
   "source": [
    "## String specific methods"
   ]
  },
  {
   "cell_type": "code",
   "execution_count": null,
   "id": "2c121a90",
   "metadata": {},
   "outputs": [],
   "source": [
    "print(S.find('pa'))#finds position\n",
    "\n",
    "#replace parts of a string\n",
    "print(S)\n",
    "print(S.replace('pa','XYZ'))\n",
    "\n",
    "#upper and lower case\n",
    "print(S.upper())\n",
    "print(S.lower())\n"
   ]
  },
  {
   "cell_type": "code",
   "execution_count": null,
   "id": "466b571b",
   "metadata": {},
   "outputs": [],
   "source": [
    "line='aaa,bbb,cccc,dd d\\n'\n",
    "\n",
    "#split based on something\n",
    "print(line.split(','))\n",
    "#creates a list\n",
    "print(type(line.split(',')))\n",
    "\n",
    "# strip out whitespace on rhs\n",
    "print(line.rstrip())\n"
   ]
  },
  {
   "cell_type": "markdown",
   "id": "63766a0c",
   "metadata": {},
   "source": [
    "## Formatting"
   ]
  },
  {
   "cell_type": "code",
   "execution_count": null,
   "id": "46db5b94",
   "metadata": {},
   "outputs": [],
   "source": [
    "\n",
    "print('%s, eggs, and %s' % ('spam', 'SPAM!'))\n",
    "\n",
    "print('{0}, eggs, and {1}'.format('spam', 'SPAM!'))"
   ]
  },
  {
   "cell_type": "markdown",
   "id": "06eb0d14",
   "metadata": {},
   "source": [
    "## Help\n",
    "\n",
    "Put into help( ) to get help on it"
   ]
  },
  {
   "cell_type": "code",
   "execution_count": null,
   "id": "0db5dcdc",
   "metadata": {},
   "outputs": [],
   "source": [
    "help(S.format)"
   ]
  },
  {
   "cell_type": "markdown",
   "id": "92411301",
   "metadata": {},
   "source": [
    "## Lists\n"
   ]
  },
  {
   "cell_type": "markdown",
   "id": "923a267e",
   "metadata": {},
   "source": [
    "The Python list object is the most general sequence provided by the language. \n",
    "Lists are positionally ordered collections of arbitrarily typed objects, and they have no fixed size.\n",
    "They are also mutable—unlike strings, lists can be modified in-place by assignment to offsets as well as a variety of list method calls"
   ]
  },
  {
   "cell_type": "code",
   "execution_count": null,
   "id": "8522abe2",
   "metadata": {},
   "outputs": [],
   "source": [
    "\n",
    "#list of different types\n",
    "L =[123, 'spam',1.23]\n",
    "print(L)\n",
    "\n",
    "#access\n",
    "print(L[2])\n",
    "\n",
    "#append\n",
    "L.append('NI')\n",
    "print(L)\n",
    "\n",
    "#get rid of one pop!\n",
    "L.pop(0)\n",
    "print(L)\n",
    "\n",
    "M=['aa','jeji','boio','popo','gsss','zulu','ccc']\n",
    "#sort\n",
    "M.sort()\n",
    "print(M)\n",
    "M.reverse()\n",
    "print(M)"
   ]
  },
  {
   "cell_type": "markdown",
   "id": "275edff9",
   "metadata": {},
   "source": [
    "## Comprehensions\n",
    "Python includes a more advanced operation known as a list comprehension expression, which turns out to be a powerful way to process structures like our matrix. "
   ]
  },
  {
   "cell_type": "code",
   "execution_count": null,
   "id": "94b0f3d8",
   "metadata": {},
   "outputs": [],
   "source": [
    "M=[[1, 2, 3],\n",
    "  [4, 5,6],\n",
    "  [7, 8, 9]]\n",
    "\n",
    "print(M[1][2])\n",
    "\n",
    "# this is a comprehension\n",
    "col1 = [row[1] for row in M]\n",
    "print(col1)\n",
    "\n",
    "#put if statement in\n",
    "print([row[1] for row in M if row[1]%2 ==0])\n",
    "\n"
   ]
  },
  {
   "cell_type": "code",
   "execution_count": null,
   "id": "e817db97",
   "metadata": {},
   "outputs": [],
   "source": [
    "#we can do this for a row\n",
    "print(M[0][:])\n",
    "# we can't do this! for a column\n",
    "M[1,:]\n"
   ]
  },
  {
   "cell_type": "markdown",
   "id": "5c398166",
   "metadata": {},
   "source": [
    "## Dictionaries\n",
    "Python dictionaries are something completely different (Monty Python reference intended)—they are not sequences at all, but are instead known as mappings. Mappings are also collections of other objects, but they store objects by key instead of by relative position. \n",
    "In fact, mappings don’t maintain any reliable left-to-right order; they simply map keys to associated values. Dictionaries, the only mapping type in Python’s core objects set, are also mutable: they may be changed in-place and can grow and shrink on demand, like lists."
   ]
  },
  {
   "cell_type": "code",
   "execution_count": null,
   "id": "6589dbf5",
   "metadata": {},
   "outputs": [],
   "source": [
    "#create dict\n",
    "\n",
    "D = {'food':'Spam','quality':4, 'color':'pink'}\n",
    "print(D)\n",
    "\n",
    "#or create by key assignment \n",
    "D={}\n",
    "D['food']='Spam'\n",
    "D['quality']=4\n",
    "D['color']='pink'\n",
    "print(D)\n",
    "\n",
    "#index it\n",
    "print(D['food'])\n"
   ]
  },
  {
   "cell_type": "code",
   "execution_count": null,
   "id": "51abd0e9",
   "metadata": {},
   "outputs": [],
   "source": [
    "# Nesting\n",
    "#what if the info is more complex? Nest\n",
    "\n",
    "rec = {'name':{'first':'Bob','last':'Smith'},\n",
    "        'job':['dev','mgr'],\n",
    "        'age':40.5}\n",
    "\n",
    "#index them\n",
    "print(rec['name'])\n",
    "\n",
    "print(rec['name']['last'])\n",
    "\n",
    "print(rec['job'][0])\n",
    "\n",
    "#or add more NB job is a list\n",
    "rec['job'].append('janitor')\n",
    "\n",
    "print(rec)\n",
    "\n",
    "#keys are 1st bit\n",
    "print(rec.keys())"
   ]
  },
  {
   "cell_type": "markdown",
   "id": "f2de4df2",
   "metadata": {},
   "source": [
    "## Tuples\n",
    "roughly like a list that cannot be changed—tuples are sequences, like lists, but they are immutable, like strings. Syntactically, they are coded in parentheses instead of square brackets, and they support arbitrary types, arbitrary nesting, and the usual sequence\n",
    "operations:"
   ]
  },
  {
   "cell_type": "code",
   "execution_count": null,
   "id": "b7f0df2e",
   "metadata": {},
   "outputs": [],
   "source": [
    "T=(1,2,3,4)\n",
    "print(len(T))\n",
    "\n",
    "#concatenation\n",
    "print(T+(5,6))\n",
    "\n",
    "#indexing\n",
    "print(T[0])\n",
    "\n",
    "## or\n",
    "T = ('spam', 3.0, [11, 22, 33])\n",
    "print(T)"
   ]
  },
  {
   "cell_type": "markdown",
   "id": "88b3ef30",
   "metadata": {},
   "source": [
    "# Numeric Types\n",
    "Based on Chapter 5 of \"Learning Python\", 4th Edition, Mark Lutz, O'Reilly"
   ]
  },
  {
   "cell_type": "code",
   "execution_count": null,
   "id": "2008b07d",
   "metadata": {},
   "outputs": [],
   "source": [
    "print(type(3))\n",
    "print(type(3.0))"
   ]
  },
  {
   "cell_type": "code",
   "execution_count": null,
   "id": "1ff0d483",
   "metadata": {},
   "outputs": [],
   "source": [
    "# integer division or floor\n",
    "print(102.2//3.2)\n",
    "#normal division\n",
    "print(102.2/3.2)\n",
    "\n",
    "#to the power\n",
    "print(3**2)\n",
    "\n",
    "#remainder\n",
    "print(100%3)\n",
    "\n",
    "#complex numbers j or J\n",
    "print((1j +2)*3J)"
   ]
  },
  {
   "cell_type": "code",
   "execution_count": null,
   "id": "e229fb58",
   "metadata": {},
   "outputs": [],
   "source": [
    "(52-6)*5*7.5*10*.89\n",
    "10*.89*5*7.5"
   ]
  },
  {
   "cell_type": "markdown",
   "metadata": {},
   "source": [
    "# Class Methods"
   ]
  },
  {
   "cell_type": "markdown",
   "metadata": {},
   "source": [
    "### Classes and Instances\n",
    "\n",
    "- Classes define the behavior of all instances of a specific class.\n",
    "\n",
    "- Each variable of a specific class is an instance or object.\n",
    "\n",
    "- Objects can have attributes, which store information about the object.\n",
    "\n",
    "- You can make objects do work by calling their methods.\n",
    "\n",
    "- The first parameter of the methods (self) represents the current instance.\n",
    "\n",
    "- Methods are just like functions, but they can only be used through a class.\n",
    "\n",
    "### Special methods\n",
    "\n",
    "- Special methods start and end with __. (two underscores)\n",
    "\n",
    "- Special methods have specific names, like __init__ for the constructor or __str__ for the conversion to string."
   ]
  },
  {
   "cell_type": "markdown",
   "metadata": {},
   "source": [
    "Defining a class"
   ]
  },
  {
   "cell_type": "code",
   "execution_count": 3,
   "metadata": {},
   "outputs": [],
   "source": [
    "class ClassName:\n",
    "    def method_name(self, other_parameters):\n",
    "        body_of_method"
   ]
  },
  {
   "cell_type": "markdown",
   "metadata": {},
   "source": [
    "Defining a class with a method"
   ]
  },
  {
   "cell_type": "code",
   "execution_count": 2,
   "metadata": {},
   "outputs": [],
   "source": [
    "class ClassName:\n",
    "    \"\"\"Documentation for the class.\"\"\"\n",
    "    def method_name(self, other_parameters):\n",
    "        \"\"\"Documentation for the method.\"\"\"\n",
    "        body_of_method"
   ]
  },
  {
   "cell_type": "markdown",
   "metadata": {},
   "source": [
    "### Object Composition\n",
    "\n",
    "You can have a situation where two different classes are related, but there is no inheritance going on. This is referred to as composition -- where one class makes use of code contained in another class. For example, imagine we have a Package class which represents a software package. It contains attributes about the software package, like name, version, and size. We also have a Repository class which represents all the packages available for installation. While there’s no inheritance relationship between the two classes, they are related. The Repository class will contain a dictionary or list of Packages that are contained in the repository. Let's take a look at an example Repository class definition:"
   ]
  },
  {
   "cell_type": "code",
   "execution_count": 4,
   "metadata": {},
   "outputs": [],
   "source": [
    "class Repository:\n",
    "...      def __init__(self):\n",
    "...          self.packages = {}\n",
    "...      def add_package(self, package):\n",
    "...          self.packages[package.name] = package\n",
    "...      def total_size(self):\n",
    "...          result = 0\n",
    "...          for package in self.packages.values():\n",
    "...              result += package.size\n",
    "...          return result"
   ]
  },
  {
   "cell_type": "markdown",
   "metadata": {},
   "source": [
    "In the constructor method, we initialize the packages dictionary, which will contain the package objects available in this repository instance. We initialize the dictionary in the constructor to ensure that every instance of the Repository class has its own dictionary.\n",
    "\n",
    "We then define the add_package method, which takes a Package object as a parameter, and then adds it to our dictionary, using the package name attribute as the key.\n",
    "\n",
    "Finally, we define a total_size method which computes the total size of all packages contained in our repository. This method iterates through the values in our repository dictionary and adds together the size attributes from each package object contained in the dictionary, returning the total at the end. In this example, we’re making use of Package attributes within our Repository class. We’re also calling the values() method on our packages dictionary instance. Composition allows us to use objects as attributes, as well as access all their attributes and methods."
   ]
  }
 ],
 "metadata": {
  "kernelspec": {
   "display_name": "Python 3",
   "language": "python",
   "name": "python3"
  },
  "language_info": {
   "codemirror_mode": {
    "name": "ipython",
    "version": 3
   },
   "file_extension": ".py",
   "mimetype": "text/x-python",
   "name": "python",
   "nbconvert_exporter": "python",
   "pygments_lexer": "ipython3",
   "version": "3.8.8"
  },
  "varInspector": {
   "cols": {
    "lenName": 16,
    "lenType": 16,
    "lenVar": 40
   },
   "kernels_config": {
    "python": {
     "delete_cmd_postfix": "",
     "delete_cmd_prefix": "del ",
     "library": "var_list.py",
     "varRefreshCmd": "print(var_dic_list())"
    },
    "r": {
     "delete_cmd_postfix": ") ",
     "delete_cmd_prefix": "rm(",
     "library": "var_list.r",
     "varRefreshCmd": "cat(var_dic_list()) "
    }
   },
   "types_to_exclude": [
    "module",
    "function",
    "builtin_function_or_method",
    "instance",
    "_Feature"
   ],
   "window_display": false
  }
 },
 "nbformat": 4,
 "nbformat_minor": 5
}
