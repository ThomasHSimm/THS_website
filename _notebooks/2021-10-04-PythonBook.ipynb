{
 "cells": [
  {
   "cell_type": "markdown",
   "id": "933b100d",
   "metadata": {},
   "source": [
    "# Learning Python Book\n",
    "\n",
    "![](ghtop_images/header2.png)"
   ]
  },
  {
   "cell_type": "markdown",
   "metadata": {},
   "source": [
    "![](ghtop_images/pythonbook.png)"
   ]
  },
  {
   "cell_type": "markdown",
   "id": "788a5cb3",
   "metadata": {},
   "source": [
    "## Chapter 4"
   ]
  },
  {
   "cell_type": "code",
   "execution_count": 154,
   "id": "90484fc2",
   "metadata": {},
   "outputs": [
    {
     "name": "stdout",
     "output_type": "stream",
     "text": [
      "3.141592653589793\n",
      "5.830951894845301\n"
     ]
    }
   ],
   "source": [
    "import math\n",
    "print(math.pi)\n",
    "print(math.sqrt(34))"
   ]
  },
  {
   "cell_type": "code",
   "execution_count": 155,
   "id": "4119b288",
   "metadata": {},
   "outputs": [
    {
     "name": "stdout",
     "output_type": "stream",
     "text": [
      "0.09270662638339122\n",
      "3\n",
      "1\n"
     ]
    }
   ],
   "source": [
    "import random\n",
    "print(random.random())\n",
    "\n",
    "print(random.choice([1,2,3,4]))\n",
    "print(random.choice([1,2,3,4]))"
   ]
  },
  {
   "cell_type": "code",
   "execution_count": 156,
   "id": "21054f98",
   "metadata": {},
   "outputs": [
    {
     "name": "stdout",
     "output_type": "stream",
     "text": [
      "pa\n",
      "Spa\n",
      "pam\n",
      "Spam\n",
      "SpamSpamSpam\n"
     ]
    }
   ],
   "source": [
    "S='Spam'\n",
    "\n",
    "print(S[1:3])\n",
    "print(S[:-1])\n",
    "print(S[1:])\n",
    "print(S[:])\n",
    "print(S*3)"
   ]
  },
  {
   "cell_type": "markdown",
   "id": "4277d792",
   "metadata": {},
   "source": [
    "### immutability"
   ]
  },
  {
   "cell_type": "code",
   "execution_count": 49,
   "id": "8673aeac",
   "metadata": {},
   "outputs": [
    {
     "ename": "TypeError",
     "evalue": "'str' object does not support item assignment",
     "output_type": "error",
     "traceback": [
      "\u001b[1;31m---------------------------------------------------------------------------\u001b[0m",
      "\u001b[1;31mTypeError\u001b[0m                                 Traceback (most recent call last)",
      "\u001b[1;32m<ipython-input-49-e4f15e0a78a0>\u001b[0m in \u001b[0;36m<module>\u001b[1;34m\u001b[0m\n\u001b[0;32m      1\u001b[0m \u001b[1;31m# strings are not immutable\u001b[0m\u001b[1;33m\u001b[0m\u001b[1;33m\u001b[0m\u001b[1;33m\u001b[0m\u001b[0m\n\u001b[1;32m----> 2\u001b[1;33m \u001b[0mS\u001b[0m\u001b[1;33m[\u001b[0m\u001b[1;36m0\u001b[0m\u001b[1;33m]\u001b[0m\u001b[1;33m=\u001b[0m\u001b[1;34m'p'\u001b[0m \u001b[1;31m##error\u001b[0m\u001b[1;33m\u001b[0m\u001b[1;33m\u001b[0m\u001b[0m\n\u001b[0m",
      "\u001b[1;31mTypeError\u001b[0m: 'str' object does not support item assignment"
     ]
    }
   ],
   "source": [
    "\n",
    "# strings are not immutable\n",
    "S[0]='p' ##error"
   ]
  },
  {
   "cell_type": "code",
   "execution_count": 55,
   "id": "df4a29b5",
   "metadata": {},
   "outputs": [
    {
     "name": "stdout",
     "output_type": "stream",
     "text": [
      "zpam\n"
     ]
    }
   ],
   "source": [
    "# but we can create a new string\n",
    "S = 'z' +S[1:]\n",
    "print(S)\n",
    "#or use replaces"
   ]
  },
  {
   "cell_type": "markdown",
   "id": "c0bc244a",
   "metadata": {},
   "source": [
    "### string specific methods"
   ]
  },
  {
   "cell_type": "code",
   "execution_count": 59,
   "id": "2c121a90",
   "metadata": {},
   "outputs": [
    {
     "name": "stdout",
     "output_type": "stream",
     "text": [
      "1\n",
      "zpam\n",
      "zXYZm\n",
      "ZPAM\n",
      "zpam\n"
     ]
    }
   ],
   "source": [
    "print(S.find('pa'))#finds position\n",
    "\n",
    "#replace parts of a string\n",
    "print(S)\n",
    "print(S.replace('pa','XYZ'))\n",
    "\n",
    "#upper and lower case\n",
    "print(S.upper())\n",
    "print(S.lower())\n"
   ]
  },
  {
   "cell_type": "code",
   "execution_count": 67,
   "id": "466b571b",
   "metadata": {},
   "outputs": [
    {
     "name": "stdout",
     "output_type": "stream",
     "text": [
      "['aaa', 'bbb', 'cccc', 'dd d\\n']\n",
      "<class 'list'>\n",
      "aaa,bbb,cccc,dd d\n"
     ]
    }
   ],
   "source": [
    "line='aaa,bbb,cccc,dd d\\n'\n",
    "\n",
    "#split based on something\n",
    "print(line.split(','))\n",
    "#creates a list\n",
    "print(type(line.split(',')))\n",
    "\n",
    "# strip out whitespace on rhs\n",
    "print(line.rstrip())\n"
   ]
  },
  {
   "cell_type": "markdown",
   "id": "63766a0c",
   "metadata": {},
   "source": [
    "### formatting"
   ]
  },
  {
   "cell_type": "code",
   "execution_count": 72,
   "id": "46db5b94",
   "metadata": {},
   "outputs": [
    {
     "name": "stdout",
     "output_type": "stream",
     "text": [
      "spam, eggs, and SPAM!\n",
      "spam, eggs, and SPAM!\n"
     ]
    }
   ],
   "source": [
    "\n",
    "print('%s, eggs, and %s' % ('spam', 'SPAM!'))\n",
    "\n",
    "print('{0}, eggs, and {1}'.format('spam', 'SPAM!'))"
   ]
  },
  {
   "cell_type": "markdown",
   "id": "06eb0d14",
   "metadata": {},
   "source": [
    "### help\n",
    "\n",
    "Put into help( ) to get help on it"
   ]
  },
  {
   "cell_type": "code",
   "execution_count": 74,
   "id": "0db5dcdc",
   "metadata": {},
   "outputs": [
    {
     "name": "stdout",
     "output_type": "stream",
     "text": [
      "Help on built-in function format:\n",
      "\n",
      "format(...) method of builtins.str instance\n",
      "    S.format(*args, **kwargs) -> str\n",
      "    \n",
      "    Return a formatted version of S, using substitutions from args and kwargs.\n",
      "    The substitutions are identified by braces ('{' and '}').\n",
      "\n"
     ]
    }
   ],
   "source": [
    "help(S.format)"
   ]
  },
  {
   "cell_type": "markdown",
   "id": "92411301",
   "metadata": {},
   "source": [
    "### Lists\n"
   ]
  },
  {
   "cell_type": "markdown",
   "id": "923a267e",
   "metadata": {},
   "source": [
    "The Python list object is the most general sequence provided by the language. \n",
    "Lists are positionally ordered collections of arbitrarily typed objects, and they have no fixed size.\n",
    "They are also mutable—unlike strings, lists can be modified in-place by assignment to offsets as well as a variety of list method calls"
   ]
  },
  {
   "cell_type": "code",
   "execution_count": 84,
   "id": "8522abe2",
   "metadata": {},
   "outputs": [
    {
     "name": "stdout",
     "output_type": "stream",
     "text": [
      "[123, 'spam', 1.23]\n",
      "1.23\n",
      "[123, 'spam', 1.23, 'NI']\n",
      "['spam', 1.23, 'NI']\n",
      "['aa', 'boio', 'ccc', 'gsss', 'jeji', 'popo', 'zulu']\n",
      "['zulu', 'popo', 'jeji', 'gsss', 'ccc', 'boio', 'aa']\n"
     ]
    }
   ],
   "source": [
    "\n",
    "#list of different types\n",
    "L =[123, 'spam',1.23]\n",
    "print(L)\n",
    "\n",
    "#access\n",
    "print(L[2])\n",
    "\n",
    "#append\n",
    "L.append('NI')\n",
    "print(L)\n",
    "\n",
    "#get rid of one pop!\n",
    "L.pop(0)\n",
    "print(L)\n",
    "\n",
    "M=['aa','jeji','boio','popo','gsss','zulu','ccc']\n",
    "#sort\n",
    "M.sort()\n",
    "print(M)\n",
    "M.reverse()\n",
    "print(M)"
   ]
  },
  {
   "cell_type": "markdown",
   "id": "275edff9",
   "metadata": {},
   "source": [
    "### Comprehensions\n",
    "Python includes a more advanced operation known as a list comprehension expression, which turns out to be a powerful way to process structures like our matrix. "
   ]
  },
  {
   "cell_type": "code",
   "execution_count": 104,
   "id": "94b0f3d8",
   "metadata": {},
   "outputs": [
    {
     "name": "stdout",
     "output_type": "stream",
     "text": [
      "6\n",
      "[2, 5, 8]\n",
      "[2, 8]\n"
     ]
    }
   ],
   "source": [
    "M=[[1, 2, 3],\n",
    "  [4, 5,6],\n",
    "  [7, 8, 9]]\n",
    "\n",
    "print(M[1][2])\n",
    "\n",
    "# this is a comprehension\n",
    "col1 = [row[1] for row in M]\n",
    "print(col1)\n",
    "\n",
    "#put if statement in\n",
    "print([row[1] for row in M if row[1]%2 ==0])\n",
    "\n"
   ]
  },
  {
   "cell_type": "code",
   "execution_count": 95,
   "id": "e817db97",
   "metadata": {},
   "outputs": [
    {
     "name": "stdout",
     "output_type": "stream",
     "text": [
      "[1, 2, 3]\n"
     ]
    },
    {
     "ename": "TypeError",
     "evalue": "list indices must be integers or slices, not tuple",
     "output_type": "error",
     "traceback": [
      "\u001b[1;31m---------------------------------------------------------------------------\u001b[0m",
      "\u001b[1;31mTypeError\u001b[0m                                 Traceback (most recent call last)",
      "\u001b[1;32m<ipython-input-95-152d95bde439>\u001b[0m in \u001b[0;36m<module>\u001b[1;34m\u001b[0m\n\u001b[0;32m      2\u001b[0m \u001b[0mprint\u001b[0m\u001b[1;33m(\u001b[0m\u001b[0mM\u001b[0m\u001b[1;33m[\u001b[0m\u001b[1;36m0\u001b[0m\u001b[1;33m]\u001b[0m\u001b[1;33m[\u001b[0m\u001b[1;33m:\u001b[0m\u001b[1;33m]\u001b[0m\u001b[1;33m)\u001b[0m\u001b[1;33m\u001b[0m\u001b[1;33m\u001b[0m\u001b[0m\n\u001b[0;32m      3\u001b[0m \u001b[1;31m# we can't do this! for a column\u001b[0m\u001b[1;33m\u001b[0m\u001b[1;33m\u001b[0m\u001b[1;33m\u001b[0m\u001b[0m\n\u001b[1;32m----> 4\u001b[1;33m \u001b[0mM\u001b[0m\u001b[1;33m[\u001b[0m\u001b[1;36m1\u001b[0m\u001b[1;33m,\u001b[0m\u001b[1;33m:\u001b[0m\u001b[1;33m]\u001b[0m\u001b[1;33m\u001b[0m\u001b[1;33m\u001b[0m\u001b[0m\n\u001b[0m",
      "\u001b[1;31mTypeError\u001b[0m: list indices must be integers or slices, not tuple"
     ]
    }
   ],
   "source": [
    "#we can do this for a row\n",
    "print(M[0][:])\n",
    "# we can't do this! for a column\n",
    "M[1,:]\n"
   ]
  },
  {
   "cell_type": "markdown",
   "id": "5c398166",
   "metadata": {},
   "source": [
    "### Dictionaries\n",
    "Python dictionaries are something completely different (Monty Python reference intended)—they are not sequences at all, but are instead known as mappings. Mappings are also collections of other objects, but they store objects by key instead of by relative position. \n",
    "In fact, mappings don’t maintain any reliable left-to-right order; they simply map keys to associated values. Dictionaries, the only mapping type in Python’s core objects set, are also mutable: they may be changed in-place and can grow and shrink on demand, like lists."
   ]
  },
  {
   "cell_type": "code",
   "execution_count": 114,
   "id": "6589dbf5",
   "metadata": {},
   "outputs": [
    {
     "name": "stdout",
     "output_type": "stream",
     "text": [
      "{'food': 'Spam', 'quality': 4, 'color': 'pink'}\n",
      "{'food': 'Spam', 'quality': 4, 'color': 'pink'}\n",
      "Spam\n"
     ]
    }
   ],
   "source": [
    "#create dict\n",
    "\n",
    "D = {'food':'Spam','quality':4, 'color':'pink'}\n",
    "print(D)\n",
    "\n",
    "#or create by key assignment \n",
    "D={}\n",
    "D['food']='Spam'\n",
    "D['quality']=4\n",
    "D['color']='pink'\n",
    "print(D)\n",
    "\n",
    "#index it\n",
    "print(D['food'])\n"
   ]
  },
  {
   "cell_type": "code",
   "execution_count": 121,
   "id": "51abd0e9",
   "metadata": {},
   "outputs": [
    {
     "name": "stdout",
     "output_type": "stream",
     "text": [
      "{'first': 'Bob', 'last': 'Smith'}\n",
      "Smith\n",
      "dev\n",
      "{'name': {'first': 'Bob', 'last': 'Smith'}, 'job': ['dev', 'mgr', 'janitor'], 'age': 40.5}\n",
      "dict_keys(['name', 'job', 'age'])\n"
     ]
    }
   ],
   "source": [
    "# Nesting\n",
    "#what if the info is more complex? Nest\n",
    "\n",
    "rec = {'name':{'first':'Bob','last':'Smith'},\n",
    "        'job':['dev','mgr'],\n",
    "        'age':40.5}\n",
    "\n",
    "#index them\n",
    "print(rec['name'])\n",
    "\n",
    "print(rec['name']['last'])\n",
    "\n",
    "print(rec['job'][0])\n",
    "\n",
    "#or add more NB job is a list\n",
    "rec['job'].append('janitor')\n",
    "\n",
    "print(rec)\n",
    "\n",
    "#keys are 1st bit\n",
    "print(rec.keys())"
   ]
  },
  {
   "cell_type": "markdown",
   "id": "f2de4df2",
   "metadata": {},
   "source": [
    "### Tuples\n",
    "roughly like a list that cannot be changed—tuples are sequences, like lists, but they are immutable, like strings. Syntactically, they are coded in parentheses instead of square brackets, and they support arbitrary types, arbitrary nesting, and the usual sequence\n",
    "operations:"
   ]
  },
  {
   "cell_type": "code",
   "execution_count": 132,
   "id": "b7f0df2e",
   "metadata": {},
   "outputs": [
    {
     "name": "stdout",
     "output_type": "stream",
     "text": [
      "4\n",
      "(1, 2, 3, 4, 5, 6)\n",
      "1\n",
      "('spam', 3.0, [11, 22, 33])\n"
     ]
    }
   ],
   "source": [
    "T=(1,2,3,4)\n",
    "print(len(T))\n",
    "\n",
    "#concatenation\n",
    "print(T+(5,6))\n",
    "\n",
    "#indexing\n",
    "print(T[0])\n",
    "\n",
    "## or\n",
    "T = ('spam', 3.0, [11, 22, 33])\n",
    "print(T)"
   ]
  },
  {
   "cell_type": "markdown",
   "id": "88b3ef30",
   "metadata": {},
   "source": [
    "## Chapter 5"
   ]
  },
  {
   "cell_type": "code",
   "execution_count": 140,
   "id": "2008b07d",
   "metadata": {},
   "outputs": [
    {
     "name": "stdout",
     "output_type": "stream",
     "text": [
      "<class 'int'>\n",
      "<class 'float'>\n"
     ]
    }
   ],
   "source": [
    "print(type(3))\n",
    "print(type(3.0))"
   ]
  },
  {
   "cell_type": "code",
   "execution_count": 145,
   "id": "1ff0d483",
   "metadata": {},
   "outputs": [
    {
     "name": "stdout",
     "output_type": "stream",
     "text": [
      "31.0\n",
      "31.9375\n",
      "9\n",
      "1\n",
      "(-3+6j)\n"
     ]
    }
   ],
   "source": [
    "# integer division or floor\n",
    "print(102.2//3.2)\n",
    "#normal division\n",
    "print(102.2/3.2)\n",
    "\n",
    "#to the power\n",
    "print(3**2)\n",
    "\n",
    "#remainder\n",
    "print(100%3)\n",
    "\n",
    "#complex numbers j or J\n",
    "print((1j +2)*3J)"
   ]
  },
  {
   "cell_type": "code",
   "execution_count": 153,
   "id": "e229fb58",
   "metadata": {},
   "outputs": [
    {
     "data": {
      "text/plain": [
       "333.75"
      ]
     },
     "execution_count": 153,
     "metadata": {},
     "output_type": "execute_result"
    }
   ],
   "source": [
    "(52-6)*5*7.5*10*.89\n",
    "10*.89*5*7.5"
   ]
  }
 ],
 "metadata": {
  "kernelspec": {
   "display_name": "Python 3",
   "language": "python",
   "name": "python3"
  },
  "language_info": {
   "codemirror_mode": {
    "name": "ipython",
    "version": 3
   },
   "file_extension": ".py",
   "mimetype": "text/x-python",
   "name": "python",
   "nbconvert_exporter": "python",
   "pygments_lexer": "ipython3",
   "version": "3.8.8"
  },
  "varInspector": {
   "cols": {
    "lenName": 16,
    "lenType": 16,
    "lenVar": 40
   },
   "kernels_config": {
    "python": {
     "delete_cmd_postfix": "",
     "delete_cmd_prefix": "del ",
     "library": "var_list.py",
     "varRefreshCmd": "print(var_dic_list())"
    },
    "r": {
     "delete_cmd_postfix": ") ",
     "delete_cmd_prefix": "rm(",
     "library": "var_list.r",
     "varRefreshCmd": "cat(var_dic_list()) "
    }
   },
   "types_to_exclude": [
    "module",
    "function",
    "builtin_function_or_method",
    "instance",
    "_Feature"
   ],
   "window_display": false
  }
 },
 "nbformat": 4,
 "nbformat_minor": 5
}
