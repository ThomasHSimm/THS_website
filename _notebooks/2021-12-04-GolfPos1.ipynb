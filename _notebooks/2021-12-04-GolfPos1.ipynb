{
 "cells": [
  {
   "cell_type": "markdown",
   "metadata": {},
   "source": [
    "# Golf body position recognition\n",
    "> Recognising body parts during golf swing, step 1\n",
    "\n",
    "- toc: true \n",
    "- badges: true\n",
    "- categories: [jupyter]"
   ]
  },
  {
   "cell_type": "markdown",
   "metadata": {},
   "source": [
    "## Introduction \n",
    "\n",
    "This is a first step in a project to analyse golf swings.\n",
    "\n",
    "In this first step I try to identify different parts of the body and golf equipment during the golf swing. This step is of limited success for overall analysis but the steps used are useful for the lessons learnt.\n",
    "\n",
    "This work uses deep learning to identify locations (vectors) on images and fitting by regression.\n",
    "\n",
    "\n",
    "\n",
    "In this step I will use a dataSet found at <a href='https://github.com/wmcnally/golfdb'> Git Hub GolfSwing</a> and the paper of the work https://arxiv.org/abs/1903.06528.\n",
    "\n",
    "What this dataset/paper does is split the golf swing into a number of sequences based on the position of the body and golf club, e.g. start, golf club parallel to ground, striking the ball etc. We will call these the golf positions. These positions are shown below.\n",
    "\n",
    "![](ghtop_images/Fig_GolfSwing.png)\n",
    "\n",
    "\n",
    "The dataset includes a series of videos that have been characterised based on the different swing sequences. \n",
    "\n",
    "\n",
    "### Steps in this page\n",
    "\n",
    "1. Download the video dataset and the details of the frames of the different positions\n",
    "\n",
    "1. Create images at the different positions from the videos  \n",
    "\n",
    "1. Classify points on the images and a file for each image of these\n",
    "\n",
    "1. Upload data to GitHub and download on notebook for analysis\n",
    "\n",
    "1. Use deep learning to identify the positions on the images\n",
    "\n",
    "\n",
    "    "
   ]
  },
  {
   "cell_type": "markdown",
   "metadata": {},
   "source": [
    "## Use the video analysis dataset to create images of golf swings"
   ]
  },
  {
   "cell_type": "markdown",
   "metadata": {},
   "source": [
    "First I cloned the directory (https://github.com/wmcnally/golfdb) onto my local PC. I then need to identify which videos to use- I want the ones behind the golfer and preferably of lower frame rate.\n",
    "\n",
    "Below are the names of the videos I selected"
   ]
  }
 ],
 "metadata": {
  "hide_input": false,
  "kernelspec": {
   "display_name": "Python 3",
   "language": "python",
   "name": "python3"
  },
  "language_info": {
   "codemirror_mode": {
    "name": "ipython",
    "version": 3
   },
   "file_extension": ".py",
   "mimetype": "text/x-python",
   "name": "python",
   "nbconvert_exporter": "python",
   "pygments_lexer": "ipython3",
   "version": "3.8.8"
  },
  "varInspector": {
   "cols": {
    "lenName": 16,
    "lenType": 16,
    "lenVar": 40
   },
   "kernels_config": {
    "python": {
     "delete_cmd_postfix": "",
     "delete_cmd_prefix": "del ",
     "library": "var_list.py",
     "varRefreshCmd": "print(var_dic_list())"
    },
    "r": {
     "delete_cmd_postfix": ") ",
     "delete_cmd_prefix": "rm(",
     "library": "var_list.r",
     "varRefreshCmd": "cat(var_dic_list()) "
    }
   },
   "types_to_exclude": [
    "module",
    "function",
    "builtin_function_or_method",
    "instance",
    "_Feature"
   ],
   "window_display": false
  }
 },
 "nbformat": 4,
 "nbformat_minor": 2
}
